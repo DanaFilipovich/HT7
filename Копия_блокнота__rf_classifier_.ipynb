{
  "cells": [
    {
      "cell_type": "markdown",
      "metadata": {
        "id": "jcbhtRIDgtwD"
      },
      "source": [
        "# Introduction"
      ]
    },
    {
      "cell_type": "markdown",
      "metadata": {
        "id": "qtTU5oBQgtwG"
      },
      "source": [
        "Fortunately, with libraries such as Scikit-Learn, it’s now easy to build and use almost any machine learning algorithm. But it’s helpful to have an idea of how a machine learning model works under the hood. This lets us diagnose the model when it’s underperforming or explain how it makes decisions, which is crucial if we want to convince others to trust our models.\n",
        "In this assignment, we’ll look at how to build and use the Decision Tree and the Random Forest in Python. We’ll start by understanding how a single decision tree makes classifications on a simple problem. Then, we’ll work our way to using a random forest on a real-world data science problem."
      ]
    },
    {
      "cell_type": "markdown",
      "metadata": {
        "id": "-tRfnu3QgtwG"
      },
      "source": [
        "# Dataset"
      ]
    },
    {
      "cell_type": "markdown",
      "metadata": {
        "id": "qBtDi4HZgtwH"
      },
      "source": [
        "The dataset we will use in this assignment is the Sonar dataset.\n",
        "\n",
        "This is a dataset that describes sonar chirp returns bouncing off different surfaces. The 60 predictors are the strength of the returns at different angles. It is a binary classification problem that requires a model to differentiate rocks from metal cylinders. There are 208 observations.\n",
        "\n",
        "It is a well-understood dataset. All of the variables are continuous and generally in the range of 0 to 1. The output variable is a string “M” for mine and “R” for rock, which will need to be converted to integers 1 and 0.\n",
        "\n",
        "By predicting the class with the most observations in the dataset (M or mines) the Zero Rule Algorithm can achieve an accuracy of 53%.\n",
        "\n",
        "You can learn more about this dataset at the UCI Machine Learning repository.\n",
        "https://archive.ics.uci.edu/ml/datasets/Connectionist+Bench+(Sonar,+Mines+vs.+Rocks)\n",
        "\n",
        "Download the dataset for free and place it in the \"data\" folder in your working directory with the filename sonar.all-data.csv."
      ]
    },
    {
      "cell_type": "markdown",
      "metadata": {
        "id": "d8GoALWNgtwH"
      },
      "source": [
        "# Import section"
      ]
    },
    {
      "cell_type": "code",
      "execution_count": 17,
      "metadata": {
        "ExecuteTime": {
          "end_time": "2022-01-17T20:27:52.137523Z",
          "start_time": "2022-01-17T20:27:51.210945Z"
        },
        "id": "tNlQPDBEgtwI"
      },
      "outputs": [],
      "source": [
        "import numpy as np\n",
        "import pandas as pd\n",
        "import matplotlib.pyplot as plt\n",
        "import seaborn as sns\n",
        "from sklearn.model_selection import train_test_split\n",
        "from sklearn.metrics import accuracy_score"
      ]
    },
    {
      "cell_type": "code",
      "execution_count": 18,
      "metadata": {
        "ExecuteTime": {
          "end_time": "2022-01-17T20:27:52.153537Z",
          "start_time": "2022-01-17T20:27:52.139489Z"
        },
        "id": "fByNs8nKgtwI"
      },
      "outputs": [],
      "source": [
        "import tests"
      ]
    },
    {
      "cell_type": "code",
      "execution_count": 19,
      "metadata": {
        "ExecuteTime": {
          "end_time": "2022-01-17T20:27:52.169411Z",
          "start_time": "2022-01-17T20:27:52.156443Z"
        },
        "id": "7Z1m7KmugtwJ"
      },
      "outputs": [],
      "source": [
        "RANDOM_STATE = 2020"
      ]
    },
    {
      "cell_type": "code",
      "source": [
        "from google.colab import drive\n",
        "drive.mount('/content/drive')"
      ],
      "metadata": {
        "id": "IA-76-HQi2Ht",
        "outputId": "e68689cc-1131-4f95-848c-f24c1c4c45a0",
        "colab": {
          "base_uri": "https://localhost:8080/"
        }
      },
      "execution_count": 20,
      "outputs": [
        {
          "output_type": "stream",
          "name": "stdout",
          "text": [
            "Drive already mounted at /content/drive; to attempt to forcibly remount, call drive.mount(\"/content/drive\", force_remount=True).\n"
          ]
        }
      ]
    },
    {
      "cell_type": "markdown",
      "metadata": {
        "id": "cJBHmxWPgtwJ"
      },
      "source": [
        "# Preprocess data"
      ]
    },
    {
      "cell_type": "markdown",
      "metadata": {
        "id": "iFI75WBNgtwK"
      },
      "source": [
        "Read data and convert targets to integers 1 and 0."
      ]
    },
    {
      "cell_type": "code",
      "execution_count": 50,
      "metadata": {
        "ExecuteTime": {
          "end_time": "2022-01-17T20:27:52.216149Z",
          "start_time": "2022-01-17T20:27:52.171403Z"
        },
        "id": "zFq9zQcYgtwK",
        "outputId": "d51fad22-b57d-4734-82aa-0569e0cff060",
        "colab": {
          "base_uri": "https://localhost:8080/",
          "height": 300
        }
      },
      "outputs": [
        {
          "output_type": "execute_result",
          "data": {
            "text/plain": [
              "   feat_0  feat_1  feat_2  feat_3  feat_4  feat_5  feat_6  feat_7  feat_8  \\\n",
              "0  0.0200  0.0371  0.0428  0.0207  0.0954  0.0986  0.1539  0.1601  0.3109   \n",
              "1  0.0453  0.0523  0.0843  0.0689  0.1183  0.2583  0.2156  0.3481  0.3337   \n",
              "2  0.0262  0.0582  0.1099  0.1083  0.0974  0.2280  0.2431  0.3771  0.5598   \n",
              "3  0.0100  0.0171  0.0623  0.0205  0.0205  0.0368  0.1098  0.1276  0.0598   \n",
              "4  0.0762  0.0666  0.0481  0.0394  0.0590  0.0649  0.1209  0.2467  0.3564   \n",
              "\n",
              "   feat_9  ...  feat_51  feat_52  feat_53  feat_54  feat_55  feat_56  feat_57  \\\n",
              "0  0.2111  ...   0.0027   0.0065   0.0159   0.0072   0.0167   0.0180   0.0084   \n",
              "1  0.2872  ...   0.0084   0.0089   0.0048   0.0094   0.0191   0.0140   0.0049   \n",
              "2  0.6194  ...   0.0232   0.0166   0.0095   0.0180   0.0244   0.0316   0.0164   \n",
              "3  0.1264  ...   0.0121   0.0036   0.0150   0.0085   0.0073   0.0050   0.0044   \n",
              "4  0.4459  ...   0.0031   0.0054   0.0105   0.0110   0.0015   0.0072   0.0048   \n",
              "\n",
              "   feat_58  feat_59  target  \n",
              "0   0.0090   0.0032       0  \n",
              "1   0.0052   0.0044       0  \n",
              "2   0.0095   0.0078       0  \n",
              "3   0.0040   0.0117       0  \n",
              "4   0.0107   0.0094       0  \n",
              "\n",
              "[5 rows x 61 columns]"
            ],
            "text/html": [
              "\n",
              "  <div id=\"df-fb233528-5616-4589-a858-5d1fe3830642\">\n",
              "    <div class=\"colab-df-container\">\n",
              "      <div>\n",
              "<style scoped>\n",
              "    .dataframe tbody tr th:only-of-type {\n",
              "        vertical-align: middle;\n",
              "    }\n",
              "\n",
              "    .dataframe tbody tr th {\n",
              "        vertical-align: top;\n",
              "    }\n",
              "\n",
              "    .dataframe thead th {\n",
              "        text-align: right;\n",
              "    }\n",
              "</style>\n",
              "<table border=\"1\" class=\"dataframe\">\n",
              "  <thead>\n",
              "    <tr style=\"text-align: right;\">\n",
              "      <th></th>\n",
              "      <th>feat_0</th>\n",
              "      <th>feat_1</th>\n",
              "      <th>feat_2</th>\n",
              "      <th>feat_3</th>\n",
              "      <th>feat_4</th>\n",
              "      <th>feat_5</th>\n",
              "      <th>feat_6</th>\n",
              "      <th>feat_7</th>\n",
              "      <th>feat_8</th>\n",
              "      <th>feat_9</th>\n",
              "      <th>...</th>\n",
              "      <th>feat_51</th>\n",
              "      <th>feat_52</th>\n",
              "      <th>feat_53</th>\n",
              "      <th>feat_54</th>\n",
              "      <th>feat_55</th>\n",
              "      <th>feat_56</th>\n",
              "      <th>feat_57</th>\n",
              "      <th>feat_58</th>\n",
              "      <th>feat_59</th>\n",
              "      <th>target</th>\n",
              "    </tr>\n",
              "  </thead>\n",
              "  <tbody>\n",
              "    <tr>\n",
              "      <th>0</th>\n",
              "      <td>0.0200</td>\n",
              "      <td>0.0371</td>\n",
              "      <td>0.0428</td>\n",
              "      <td>0.0207</td>\n",
              "      <td>0.0954</td>\n",
              "      <td>0.0986</td>\n",
              "      <td>0.1539</td>\n",
              "      <td>0.1601</td>\n",
              "      <td>0.3109</td>\n",
              "      <td>0.2111</td>\n",
              "      <td>...</td>\n",
              "      <td>0.0027</td>\n",
              "      <td>0.0065</td>\n",
              "      <td>0.0159</td>\n",
              "      <td>0.0072</td>\n",
              "      <td>0.0167</td>\n",
              "      <td>0.0180</td>\n",
              "      <td>0.0084</td>\n",
              "      <td>0.0090</td>\n",
              "      <td>0.0032</td>\n",
              "      <td>0</td>\n",
              "    </tr>\n",
              "    <tr>\n",
              "      <th>1</th>\n",
              "      <td>0.0453</td>\n",
              "      <td>0.0523</td>\n",
              "      <td>0.0843</td>\n",
              "      <td>0.0689</td>\n",
              "      <td>0.1183</td>\n",
              "      <td>0.2583</td>\n",
              "      <td>0.2156</td>\n",
              "      <td>0.3481</td>\n",
              "      <td>0.3337</td>\n",
              "      <td>0.2872</td>\n",
              "      <td>...</td>\n",
              "      <td>0.0084</td>\n",
              "      <td>0.0089</td>\n",
              "      <td>0.0048</td>\n",
              "      <td>0.0094</td>\n",
              "      <td>0.0191</td>\n",
              "      <td>0.0140</td>\n",
              "      <td>0.0049</td>\n",
              "      <td>0.0052</td>\n",
              "      <td>0.0044</td>\n",
              "      <td>0</td>\n",
              "    </tr>\n",
              "    <tr>\n",
              "      <th>2</th>\n",
              "      <td>0.0262</td>\n",
              "      <td>0.0582</td>\n",
              "      <td>0.1099</td>\n",
              "      <td>0.1083</td>\n",
              "      <td>0.0974</td>\n",
              "      <td>0.2280</td>\n",
              "      <td>0.2431</td>\n",
              "      <td>0.3771</td>\n",
              "      <td>0.5598</td>\n",
              "      <td>0.6194</td>\n",
              "      <td>...</td>\n",
              "      <td>0.0232</td>\n",
              "      <td>0.0166</td>\n",
              "      <td>0.0095</td>\n",
              "      <td>0.0180</td>\n",
              "      <td>0.0244</td>\n",
              "      <td>0.0316</td>\n",
              "      <td>0.0164</td>\n",
              "      <td>0.0095</td>\n",
              "      <td>0.0078</td>\n",
              "      <td>0</td>\n",
              "    </tr>\n",
              "    <tr>\n",
              "      <th>3</th>\n",
              "      <td>0.0100</td>\n",
              "      <td>0.0171</td>\n",
              "      <td>0.0623</td>\n",
              "      <td>0.0205</td>\n",
              "      <td>0.0205</td>\n",
              "      <td>0.0368</td>\n",
              "      <td>0.1098</td>\n",
              "      <td>0.1276</td>\n",
              "      <td>0.0598</td>\n",
              "      <td>0.1264</td>\n",
              "      <td>...</td>\n",
              "      <td>0.0121</td>\n",
              "      <td>0.0036</td>\n",
              "      <td>0.0150</td>\n",
              "      <td>0.0085</td>\n",
              "      <td>0.0073</td>\n",
              "      <td>0.0050</td>\n",
              "      <td>0.0044</td>\n",
              "      <td>0.0040</td>\n",
              "      <td>0.0117</td>\n",
              "      <td>0</td>\n",
              "    </tr>\n",
              "    <tr>\n",
              "      <th>4</th>\n",
              "      <td>0.0762</td>\n",
              "      <td>0.0666</td>\n",
              "      <td>0.0481</td>\n",
              "      <td>0.0394</td>\n",
              "      <td>0.0590</td>\n",
              "      <td>0.0649</td>\n",
              "      <td>0.1209</td>\n",
              "      <td>0.2467</td>\n",
              "      <td>0.3564</td>\n",
              "      <td>0.4459</td>\n",
              "      <td>...</td>\n",
              "      <td>0.0031</td>\n",
              "      <td>0.0054</td>\n",
              "      <td>0.0105</td>\n",
              "      <td>0.0110</td>\n",
              "      <td>0.0015</td>\n",
              "      <td>0.0072</td>\n",
              "      <td>0.0048</td>\n",
              "      <td>0.0107</td>\n",
              "      <td>0.0094</td>\n",
              "      <td>0</td>\n",
              "    </tr>\n",
              "  </tbody>\n",
              "</table>\n",
              "<p>5 rows × 61 columns</p>\n",
              "</div>\n",
              "      <button class=\"colab-df-convert\" onclick=\"convertToInteractive('df-fb233528-5616-4589-a858-5d1fe3830642')\"\n",
              "              title=\"Convert this dataframe to an interactive table.\"\n",
              "              style=\"display:none;\">\n",
              "        \n",
              "  <svg xmlns=\"http://www.w3.org/2000/svg\" height=\"24px\"viewBox=\"0 0 24 24\"\n",
              "       width=\"24px\">\n",
              "    <path d=\"M0 0h24v24H0V0z\" fill=\"none\"/>\n",
              "    <path d=\"M18.56 5.44l.94 2.06.94-2.06 2.06-.94-2.06-.94-.94-2.06-.94 2.06-2.06.94zm-11 1L8.5 8.5l.94-2.06 2.06-.94-2.06-.94L8.5 2.5l-.94 2.06-2.06.94zm10 10l.94 2.06.94-2.06 2.06-.94-2.06-.94-.94-2.06-.94 2.06-2.06.94z\"/><path d=\"M17.41 7.96l-1.37-1.37c-.4-.4-.92-.59-1.43-.59-.52 0-1.04.2-1.43.59L10.3 9.45l-7.72 7.72c-.78.78-.78 2.05 0 2.83L4 21.41c.39.39.9.59 1.41.59.51 0 1.02-.2 1.41-.59l7.78-7.78 2.81-2.81c.8-.78.8-2.07 0-2.86zM5.41 20L4 18.59l7.72-7.72 1.47 1.35L5.41 20z\"/>\n",
              "  </svg>\n",
              "      </button>\n",
              "      \n",
              "  <style>\n",
              "    .colab-df-container {\n",
              "      display:flex;\n",
              "      flex-wrap:wrap;\n",
              "      gap: 12px;\n",
              "    }\n",
              "\n",
              "    .colab-df-convert {\n",
              "      background-color: #E8F0FE;\n",
              "      border: none;\n",
              "      border-radius: 50%;\n",
              "      cursor: pointer;\n",
              "      display: none;\n",
              "      fill: #1967D2;\n",
              "      height: 32px;\n",
              "      padding: 0 0 0 0;\n",
              "      width: 32px;\n",
              "    }\n",
              "\n",
              "    .colab-df-convert:hover {\n",
              "      background-color: #E2EBFA;\n",
              "      box-shadow: 0px 1px 2px rgba(60, 64, 67, 0.3), 0px 1px 3px 1px rgba(60, 64, 67, 0.15);\n",
              "      fill: #174EA6;\n",
              "    }\n",
              "\n",
              "    [theme=dark] .colab-df-convert {\n",
              "      background-color: #3B4455;\n",
              "      fill: #D2E3FC;\n",
              "    }\n",
              "\n",
              "    [theme=dark] .colab-df-convert:hover {\n",
              "      background-color: #434B5C;\n",
              "      box-shadow: 0px 1px 3px 1px rgba(0, 0, 0, 0.15);\n",
              "      filter: drop-shadow(0px 1px 2px rgba(0, 0, 0, 0.3));\n",
              "      fill: #FFFFFF;\n",
              "    }\n",
              "  </style>\n",
              "\n",
              "      <script>\n",
              "        const buttonEl =\n",
              "          document.querySelector('#df-fb233528-5616-4589-a858-5d1fe3830642 button.colab-df-convert');\n",
              "        buttonEl.style.display =\n",
              "          google.colab.kernel.accessAllowed ? 'block' : 'none';\n",
              "\n",
              "        async function convertToInteractive(key) {\n",
              "          const element = document.querySelector('#df-fb233528-5616-4589-a858-5d1fe3830642');\n",
              "          const dataTable =\n",
              "            await google.colab.kernel.invokeFunction('convertToInteractive',\n",
              "                                                     [key], {});\n",
              "          if (!dataTable) return;\n",
              "\n",
              "          const docLinkHtml = 'Like what you see? Visit the ' +\n",
              "            '<a target=\"_blank\" href=https://colab.research.google.com/notebooks/data_table.ipynb>data table notebook</a>'\n",
              "            + ' to learn more about interactive tables.';\n",
              "          element.innerHTML = '';\n",
              "          dataTable['output_type'] = 'display_data';\n",
              "          await google.colab.output.renderOutput(dataTable, element);\n",
              "          const docLink = document.createElement('div');\n",
              "          docLink.innerHTML = docLinkHtml;\n",
              "          element.appendChild(docLink);\n",
              "        }\n",
              "      </script>\n",
              "    </div>\n",
              "  </div>\n",
              "  "
            ]
          },
          "metadata": {},
          "execution_count": 50
        }
      ],
      "source": [
        "#PATH = 'data/'\n",
        "PATH = \"https://raw.githubusercontent.com/DanaFilipovich/ml-intro/2022/7_trees_and_ensembles/data/\"\n",
        "df = pd.read_csv(PATH+'sonar-all-data.csv', header=None)\n",
        "df.columns = [f'feat_{col}' if col!=60 else 'target' for col in df.columns]\n",
        "df['target'] = df['target'].map({'M': 1, 'R': 0})\n",
        "df.head()"
      ]
    },
    {
      "cell_type": "markdown",
      "metadata": {
        "id": "rIaHHPOBgtwL"
      },
      "source": [
        "# Split data (train and test)"
      ]
    },
    {
      "cell_type": "code",
      "execution_count": 22,
      "metadata": {
        "ExecuteTime": {
          "end_time": "2022-01-17T20:27:52.230836Z",
          "start_time": "2022-01-17T20:27:52.217831Z"
        },
        "id": "L_i9Tk-xgtwL"
      },
      "outputs": [],
      "source": [
        "X_train, X_test, y_train, y_test = train_test_split(df.drop(columns='target'), df['target'], test_size=0.2, random_state=RANDOM_STATE)"
      ]
    },
    {
      "cell_type": "markdown",
      "metadata": {
        "id": "TXobApRQgtwL"
      },
      "source": [
        "# Homework part 1. Implementation of Random Forest Classifier."
      ]
    },
    {
      "cell_type": "markdown",
      "metadata": {
        "id": "raVNLfokgtwM"
      },
      "source": [
        "## Splitting criteria"
      ]
    },
    {
      "cell_type": "markdown",
      "metadata": {
        "id": "LsKKcvphgtwM"
      },
      "source": [
        "**Task 1 - 2 points.** In this section you should implement two criteria for splitting of the feature space. Any of these can be used in the model."
      ]
    },
    {
      "cell_type": "markdown",
      "metadata": {
        "id": "6D4bb5SsgtwM"
      },
      "source": [
        "### Gini index"
      ]
    },
    {
      "cell_type": "markdown",
      "metadata": {
        "id": "bE2zGpPWgtwM"
      },
      "source": [
        "0.5 points for *gini_index* function"
      ]
    },
    {
      "cell_type": "code",
      "execution_count": 51,
      "metadata": {
        "ExecuteTime": {
          "end_time": "2022-01-17T20:27:52.246755Z",
          "start_time": "2022-01-17T20:27:52.231795Z"
        },
        "id": "Ig-exhfkgtwM"
      },
      "outputs": [],
      "source": [
        "def gini_index(x):\n",
        "    \"\"\" Calculate Gini Index for a node\n",
        "    Args:\n",
        "        x: Numpy-array of targets in a node\n",
        "    Returns:\n",
        "        float: Gini index\n",
        "    \"\"\"  \n",
        "    if x.shape[0] == 0:\n",
        "        return 0\n",
        "    else:\n",
        "        return 1 - (np.count_nonzero(x==1) / x.shape[0]) ** 2 - (np.count_nonzero(x==0) / x.shape[0]) ** 2  \n",
        " "
      ]
    },
    {
      "cell_type": "code",
      "execution_count": null,
      "metadata": {
        "ExecuteTime": {
          "end_time": "2022-01-17T20:27:52.372197Z",
          "start_time": "2022-01-17T20:27:52.248750Z"
        },
        "id": "Yx0PA5fcgtwN"
      },
      "outputs": [],
      "source": [
        "tests.test_gini_index(gini_index)"
      ]
    },
    {
      "cell_type": "markdown",
      "metadata": {
        "id": "d3ndURurgtwN"
      },
      "source": [
        "0.5 points for *gini_gain* function"
      ]
    },
    {
      "cell_type": "code",
      "execution_count": 25,
      "metadata": {
        "ExecuteTime": {
          "end_time": "2022-01-17T20:27:52.374411Z",
          "start_time": "2022-01-17T20:27:51.226Z"
        },
        "id": "nlbX0heDgtwN"
      },
      "outputs": [],
      "source": [
        "def gini_gain(parent_node, splits):\n",
        "    \"\"\" Calculate Gini Gain for a particular split\n",
        "    Args:\n",
        "        parent_node: Numpy-array of targets in a parent node\n",
        "        splits: List of two numpy-arrays. Each numpy-array is targets in a child node\n",
        "    Returns:\n",
        "        float: Gini gain\n",
        "    \"\"\" \n",
        "    n = parent_node.shape[0]\n",
        "    if n == 0:\n",
        "        return 0\n",
        "    else:\n",
        "        return gini_index(parent_node) - (splits[0].size / n) * gini_index(splits[0]) - (splits[1].size / n) * gini_index(splits[1])"
      ]
    },
    {
      "cell_type": "code",
      "execution_count": null,
      "metadata": {
        "ExecuteTime": {
          "end_time": "2022-01-17T20:27:52.375408Z",
          "start_time": "2022-01-17T20:27:51.228Z"
        },
        "id": "1wXTUUg2gtwN"
      },
      "outputs": [],
      "source": [
        "tests.test_gini_gain(gini_gain)"
      ]
    },
    {
      "cell_type": "markdown",
      "metadata": {
        "id": "dQPpZ4lqgtwO"
      },
      "source": [
        "### Entropy"
      ]
    },
    {
      "cell_type": "markdown",
      "metadata": {
        "id": "QRh1pCHQgtwO"
      },
      "source": [
        "0.5 points for *entropy* function. WARNING! Use only natural logarithm np.log() for calculation."
      ]
    },
    {
      "cell_type": "code",
      "execution_count": 26,
      "metadata": {
        "ExecuteTime": {
          "end_time": "2022-01-17T20:27:52.376406Z",
          "start_time": "2022-01-17T20:27:51.230Z"
        },
        "id": "lnZKYZoigtwO"
      },
      "outputs": [],
      "source": [
        "def entropy(x):\n",
        "    \"\"\" Calculate Entropy for a node\n",
        "    Args:\n",
        "        x: Numpy-array of targets in a node\n",
        "    Returns:\n",
        "        float: Entropy\n",
        "    \"\"\"\n",
        "    # If you use vectorized operations on a vector of frequencies p\n",
        "    # where some of the relative frequencies may be 0, and you need to evaluate\n",
        "    # the expression p * np.log(p), you can use the \"where\" argument of the np.log() function.\n",
        "    # This will leave those elements of the array untouched by the function, \n",
        "    # thus evaluating x*log(x) as zero, exactly as we want it to be.\n",
        "    arr_lab = np.unique(x)\n",
        "    arr_freq = np.array([np.count_nonzero(x == i) / x.shape[0] for i in arr_lab])\n",
        "    return - (arr_freq *  np.where(arr_freq != 0, np.log(arr_freq), 0)).sum()"
      ]
    },
    {
      "cell_type": "code",
      "execution_count": null,
      "metadata": {
        "ExecuteTime": {
          "end_time": "2022-01-17T20:27:52.376406Z",
          "start_time": "2022-01-17T20:27:51.233Z"
        },
        "id": "6zGir94vgtwO"
      },
      "outputs": [],
      "source": [
        "tests.test_entropy(entropy)"
      ]
    },
    {
      "cell_type": "markdown",
      "metadata": {
        "id": "rQiFPz1AgtwO"
      },
      "source": [
        "0.5 points for *information_gain* function"
      ]
    },
    {
      "cell_type": "code",
      "execution_count": 27,
      "metadata": {
        "ExecuteTime": {
          "end_time": "2022-01-17T20:27:52.377403Z",
          "start_time": "2022-01-17T20:27:51.234Z"
        },
        "id": "w0P2Wja9gtwO"
      },
      "outputs": [],
      "source": [
        "def information_gain(parent_node, splits):\n",
        "    \"\"\" Calculate Information Gain for a particular split\n",
        "    Args:\n",
        "        parent_node: Numpy-array of targets in a parent node\n",
        "        splits: List of two numpy-arrays. Each numpy-array is targets in a child node\n",
        "    Returns:\n",
        "        float: Information Gain\n",
        "    \"\"\"     \n",
        "    n = parent_node.shape[0]\n",
        "    return entropy(parent_node) - (splits[0].size / n) * entropy(splits[0]) - (splits[1].size / n) * entropy(splits[1])"
      ]
    },
    {
      "cell_type": "code",
      "execution_count": null,
      "metadata": {
        "ExecuteTime": {
          "end_time": "2022-01-17T20:27:52.378400Z",
          "start_time": "2022-01-17T20:27:51.236Z"
        },
        "id": "UunEUoN2gtwO"
      },
      "outputs": [],
      "source": [
        "tests.test_information_gain(information_gain)"
      ]
    },
    {
      "cell_type": "markdown",
      "metadata": {
        "id": "Z_tgEz7EgtwP"
      },
      "source": [
        "## Split function"
      ]
    },
    {
      "cell_type": "markdown",
      "metadata": {
        "id": "LhsgcF9UgtwP"
      },
      "source": [
        "**Task 2 - 1 point** Implement *split_dataset* function. <br>\n",
        "The rows of the dataframe received by a tree node are split into two dataframes depending on their values in a selected column. Rows with values smaller than the chosen threshold are stored in the resulting left dataframe, and we save rows with values larger than the threshold in the right dataframe. The array with target values should be split in accordance with the feature dataframe."
      ]
    },
    {
      "cell_type": "code",
      "execution_count": 28,
      "metadata": {
        "ExecuteTime": {
          "end_time": "2022-01-17T20:27:52.379398Z",
          "start_time": "2022-01-17T20:27:51.239Z"
        },
        "id": "RmcUuQnYgtwP"
      },
      "outputs": [],
      "source": [
        "def split(X, y, value):\n",
        "    \"\"\" Split y-values in order to calculate gain later\n",
        "    Args:\n",
        "        X: 1-dimensional numpy-array of data predictor with shape (N,)\n",
        "        y: 1-dimensional numpy-array of targets with shape (N,)\n",
        "        value (float): the value by which the X should be splitted\n",
        "    Returns:\n",
        "        Two 1-dimensional numpy-arrays with targets related to splits\n",
        "    \"\"\"      \n",
        "    left_mask = X < value\n",
        "    right_mask = X >= value\n",
        "    return y[left_mask], y[right_mask]\n",
        "\n",
        "\n",
        "def split_dataset(X, y, column, value):\n",
        "    \"\"\" Split dataset by a particular column and value\n",
        "    Args:\n",
        "        X: 2-dimensional numpy-array (N, num_feats). N-number of samples\n",
        "        y: 1-dimensional numpy-array of targets with shape (N,)  \n",
        "        column (int): the column by which the X should be splitted\n",
        "        value (float): the value by which the column should be splitted\n",
        "    Returns:\n",
        "        Two 2-dimensional numpy-arrays with data and two 1-dimensional numpy-arrays with targets related to splits\n",
        "        left_X, right_X, left_y, right_y\n",
        "    \"\"\"       \n",
        "    left_mask = X[:, column] < value\n",
        "    right_mask = X[:, column] >= value\n",
        "    left_y, right_y = split(X[:, column], y, value)\n",
        "    left_X, right_X = X[left_mask], X[right_mask]\n",
        "    return left_X, right_X, left_y, right_y"
      ]
    },
    {
      "cell_type": "code",
      "execution_count": null,
      "metadata": {
        "ExecuteTime": {
          "end_time": "2022-01-17T20:27:52.380396Z",
          "start_time": "2022-01-17T20:27:51.240Z"
        },
        "id": "nzhjVDPlgtwP"
      },
      "outputs": [],
      "source": [
        "tests.test_split_dataset(split_dataset)"
      ]
    },
    {
      "cell_type": "markdown",
      "metadata": {
        "id": "D3m5iK-SgtwP"
      },
      "source": [
        "## Decision tree"
      ]
    },
    {
      "cell_type": "markdown",
      "metadata": {
        "id": "oIPnlxzZgtwP"
      },
      "source": [
        "**Task 3 - 4.5 points** In the Tree class below you need to complete the *fit(), predict_row()* and *predict()* functions.<br>\n",
        "Each tree is basically a tree node that may have a left and a right child that are also trees. If a tree doesn't have any child nodes, we call it a leaf.<br>\n",
        "Since features for splitting a dataframe are chosen randomly, we need a mechanism to control this randomness to aquire reproducibility for testing purposes. In our case we use the [Random Generator](https://numpy.org/doc/stable/reference/random/generator.html)<br>\n",
        "By creation of a tree only the **criterion** and the **rng** fields are not filled with Nones, so each tree knows what criterion for dataframe splitting it should use. Each fitted tree knows as well by which column and value the split should be performed. If a tree is a leaf it doesn't have information about the split, but stores the predicted value."
      ]
    },
    {
      "cell_type": "code",
      "execution_count": 29,
      "metadata": {
        "ExecuteTime": {
          "end_time": "2022-01-17T22:03:37.866634Z",
          "start_time": "2022-01-17T22:03:37.816038Z"
        },
        "id": "OAUdIjQbgtwP"
      },
      "outputs": [],
      "source": [
        "class Tree(object):\n",
        "    \"\"\"A decision tree classifier.\n",
        "\n",
        "    Args:\n",
        "        criterion : {\"gini\", \"entropy\"}, default=\"gini\"\n",
        "            The function to measure the quality of a split. Supported criteria are\n",
        "            \"gini\" for the Gini impurity and \"entropy\" for the information gain.\n",
        "        random_gen: numpy Random Generator object, default=None\n",
        "            Generator should be passed over for reproducible results. If None, \n",
        "            a new np.random.default_rng() will be created.\n",
        "    \"\"\"\n",
        "    def __init__(self, criterion='gini', random_gen=None):\n",
        "        if criterion not in [\"gini\", \"entropy\"]:\n",
        "            raise ValueError(f'Unknown criteria for splits {criterion}')\n",
        "        self.criterion = criterion\n",
        "        self.threshold = None           # value of the next split\n",
        "        self.column_index = None        # column to use for the next split\n",
        "        self.outcome_probs = None       # the predicted value if the tree is a leaf\n",
        "        self.left_child = None\n",
        "        self.right_child = None\n",
        "        self.rng = random_gen if random_gen is not None else np.random.default_rng()\n",
        "\n",
        "    @property\n",
        "    def is_terminal(self):\n",
        "        \"\"\"Define is it terminal node.\"\"\"          \n",
        "        return not bool(self.left_child and self.right_child)\n",
        "    \n",
        "    def _compute_gain(self, y, splits):\n",
        "        \"\"\"Compute split gain according to chosen criteria.\"\"\"\n",
        "        func = gini_gain if self.criterion == 'gini' else information_gain\n",
        "        return func(y, splits)\n",
        "\n",
        "    def _find_splits(self, X):\n",
        "        \"\"\"Find all possible split values.\"\"\"\n",
        "        split_values = set()\n",
        "\n",
        "        # Get unique values in a sorted order\n",
        "        x_unique = list(np.unique(X))\n",
        "        for i in range(1, len(x_unique)):\n",
        "            # Find a point between two values\n",
        "            average = (x_unique[i - 1] + x_unique[i]) / 2.0\n",
        "            split_values.add(average)\n",
        "\n",
        "        return list(split_values)\n",
        "\n",
        "    def _find_best_split(self, X, y, n_features):\n",
        "        \"\"\"Find best feature and value for a split. Greedy algorithm.\"\"\"\n",
        "        # Sample random subset of features\n",
        "        subset = self.rng.choice(list(range(0, X.shape[1])), n_features, replace=False)\n",
        "\n",
        "        max_gain, max_col, max_val = None, None, None\n",
        "\n",
        "        for column in subset:\n",
        "            split_values = self._find_splits(X[:, column])\n",
        "            for value in split_values:\n",
        "                splits = split(X[:, column], y, value)\n",
        "                gain = self._compute_gain(y, splits)\n",
        "\n",
        "                if (max_gain is None) or (gain > max_gain):\n",
        "                    max_col, max_val, max_gain = column, value, gain\n",
        "        return max_col, max_val, max_gain\n",
        "    \n",
        "    def _compute_outcome(self, y):\n",
        "        \"\"\"Save outcome probabilities for the leaf.\"\"\"\n",
        "        self.outcome_probs = np.around(np.sum(y) / y.shape[0])\n",
        "\n",
        "    def fit(self, X, y, feature_frac=1.0, max_depth=None):\n",
        "        \"\"\"Fit model.\n",
        "\n",
        "        Args:\n",
        "            X (numpy-array):      The training input samples. 2-dimensional numpy array.\n",
        "            y (numpy-array):      The target values. 1-dimensional numpy array.\n",
        "            feature_frac (float): The fraction of features to use when fit is performed. Must be \n",
        "                                  between 0.0 and 1.0 (default: 1.0, i.e. all features).\n",
        "            max_depth (int):      The maximum depth of the tree. If None, then nodes are expanded\n",
        "                                  until all leaves are pure.\n",
        "        \"\"\"\n",
        "        # 3 points\n",
        "        \n",
        "        # Make this tree a leaf and return if max_depth doesn't allow it to grow further\n",
        "        if (max_depth is not None) and (max_depth == 0):\n",
        "            self._compute_outcome(y)\n",
        "            return self\n",
        "        \n",
        "        if not 0.0 <= feature_frac <= 1.0:\n",
        "            raise ValueError('feature_frac must lie between 0.0 and 1.0')\n",
        "        # Compute the number of features to use. Should be integer number\n",
        "        n_features = int(X.shape[1]*feature_frac)\n",
        "        \n",
        "        # Find the next split    \n",
        "        column, value, gain =  self._find_best_split(X, y, n_features)\n",
        "        \n",
        "        # Make this tree a leaf and return if the split doesn't bring any gain\n",
        "        if (gain is None) or (gain == 0):\n",
        "            self._compute_outcome(y)\n",
        "            return self\n",
        "        \n",
        "        # Save the necessary information about the next split\n",
        "        self.threshold = value         \n",
        "        self.column_index = column \n",
        "        \n",
        "        # Reduce the max_depth parameter for the next tree\n",
        "        if max_depth is not None:\n",
        "            max_depth -= 1 \n",
        "\n",
        "        # Split dataset\n",
        "        left_X, right_X, left_target, right_target = split_dataset(X, y, column, value)\n",
        "\n",
        "        # Grow left and right child. Pass over the parent's random generator\n",
        "        # for reproducible results \n",
        "        self.left_child = Tree(criterion=self.criterion, random_gen=self.rng)\n",
        "        self.left_child.fit(left_X, left_target, feature_frac, max_depth)\n",
        "\n",
        "        self.right_child = Tree(criterion=self.criterion, random_gen=self.rng)\n",
        "        self.right_child.fit(right_X, right_target, feature_frac, max_depth)\n",
        "\n",
        "    def predict_row(self, row):\n",
        "        \"\"\"Predict single row.\"\"\"\n",
        "        # 0.5 points\n",
        "        \n",
        "        if not self.is_terminal:\n",
        "            # Use the stored information about the split to define \n",
        "            # if the right or the left child to use\n",
        "            if row[self.column_index] < self.threshold:\n",
        "                node = self.left_child\n",
        "            else:\n",
        "                node = self.right_child\n",
        "            return node.predict_row(row)\n",
        "        return self.outcome_probs\n",
        "\n",
        "    def predict(self, X):\n",
        "        \"\"\"Make predictions.\n",
        "\n",
        "        Args:\n",
        "            X (numpy-array): The test input samples. 2-dimensional numpy array.\n",
        "        Returns:\n",
        "            1-dimensional numpy-array with predictions     \n",
        "        \"\"\" \n",
        "        # 1 point\n",
        "        \n",
        "        # Create a numpy array of zeros of necessary length to save predictions\n",
        "        result = np.zeros(X.shape[0])\n",
        "        # Go through all rows of the dataset\n",
        "        for i in range(X.shape[0]):\n",
        "            result[i] = self.predict_row(X[i])\n",
        "        return result"
      ]
    },
    {
      "cell_type": "code",
      "execution_count": null,
      "metadata": {
        "ExecuteTime": {
          "end_time": "2022-01-17T20:27:52.381392Z",
          "start_time": "2022-01-17T20:27:51.244Z"
        },
        "id": "WFFl8kkwgtwR"
      },
      "outputs": [],
      "source": [
        "tests.test_tree(Tree)"
      ]
    },
    {
      "cell_type": "markdown",
      "metadata": {
        "id": "QMD5_SgdgtwR"
      },
      "source": [
        "**Task 4 - 1 point** Fit two models with \"max_depth=3\" and \"max_depth=None\" hyperparameters. **Explain** the results."
      ]
    },
    {
      "cell_type": "code",
      "execution_count": 52,
      "metadata": {
        "ExecuteTime": {
          "end_time": "2022-01-17T20:27:52.382390Z",
          "start_time": "2022-01-17T20:27:51.246Z"
        },
        "id": "z3UAeLE4gtwR",
        "colab": {
          "base_uri": "https://localhost:8080/"
        },
        "outputId": "1f669cec-5bd9-4083-b5d3-84f499cad327"
      },
      "outputs": [
        {
          "output_type": "stream",
          "name": "stdout",
          "text": [
            "accuracy on train: 0.927710843373494\n",
            "accuracy on test: 0.6666666666666666\n"
          ]
        }
      ],
      "source": [
        "# Your code here\n",
        "clf = Tree(criterion='gini')\n",
        "clf.fit(X_train.values, y_train.values, max_depth=3)\n",
        "y_pred = clf.predict(X_test.values)\n",
        "print('accuracy on train:', accuracy_score(y_train, clf.predict(X_train.values)))\n",
        "print('accuracy on test:', accuracy_score(y_test, y_pred))"
      ]
    },
    {
      "cell_type": "code",
      "execution_count": 53,
      "metadata": {
        "ExecuteTime": {
          "end_time": "2022-01-17T20:27:52.383389Z",
          "start_time": "2022-01-17T20:27:51.248Z"
        },
        "id": "xbEcTR10gtwR",
        "colab": {
          "base_uri": "https://localhost:8080/"
        },
        "outputId": "d6f5c1ea-8508-4cf7-e8cf-1b8c9cc94dc9"
      },
      "outputs": [
        {
          "output_type": "stream",
          "name": "stdout",
          "text": [
            "accuracy on train: 1.0\n",
            "accuracy on test: 0.6666666666666666\n"
          ]
        }
      ],
      "source": [
        "# Your code here\n",
        "clf = Tree(criterion='gini')\n",
        "clf.fit(X_train.values, y_train.values, max_depth=None)\n",
        "y_pred = clf.predict(X_test.values)\n",
        "print('accuracy on train:', accuracy_score(y_train, clf.predict(X_train.values)))\n",
        "print('accuracy on test:', accuracy_score(y_test, y_pred))"
      ]
    },
    {
      "cell_type": "markdown",
      "source": [
        "Точность на тестовых данных одинаковая, а вот на тренировочных при неопределенной глубине дерева больше. Значит чтобы получилась точность=1 глубина дерева должна быть больше 3. "
      ],
      "metadata": {
        "id": "f5xB1cIo_lJe"
      }
    },
    {
      "cell_type": "code",
      "execution_count": 31,
      "metadata": {
        "ExecuteTime": {
          "end_time": "2022-01-17T20:27:52.384384Z",
          "start_time": "2022-01-17T20:27:51.249Z"
        },
        "id": "3M8rsoWAgtwR"
      },
      "outputs": [],
      "source": [
        "def plot_metrics_on_depths(criterion='gini'):\n",
        "    max_depths, train_scores, test_scores = [], [], []\n",
        "    for max_depth in range(0, 8):\n",
        "        max_depths.append(max_depth)\n",
        "        model = Tree(criterion=criterion)\n",
        "        model.fit(X_train.values, y_train.values, max_depth=max_depth)\n",
        "        train_scores.append(accuracy_score(y_train, model.predict(X_train.values)))\n",
        "        y_pred = model.predict(X_test.values)\n",
        "        test_scores.append(accuracy_score(y_test, y_pred))\n",
        "    res_metrics = pd.DataFrame(data={'train': train_scores, 'test': test_scores}, index=max_depths)\n",
        "    sns.set(rc={'figure.figsize':(16, 6)})\n",
        "    plt.plot(res_metrics['train'], label='train score')\n",
        "    plt.plot(res_metrics['test'], label='test score')\n",
        "    plt.title(\"Accuracy as a function of max_depth\")\n",
        "    plt.xlabel('max_depth')\n",
        "    plt.ylabel('accuracy')\n",
        "    plt.legend()\n",
        "    plt.show();"
      ]
    },
    {
      "cell_type": "code",
      "execution_count": 32,
      "metadata": {
        "ExecuteTime": {
          "end_time": "2022-01-17T20:27:52.384384Z",
          "start_time": "2022-01-17T20:27:51.250Z"
        },
        "id": "x0hm7RWPgtwS",
        "colab": {
          "base_uri": "https://localhost:8080/",
          "height": 407
        },
        "outputId": "44e2cb98-fef9-4f32-f00f-931da2230041"
      },
      "outputs": [
        {
          "output_type": "display_data",
          "data": {
            "text/plain": [
              "<Figure size 1152x432 with 1 Axes>"
            ],
            "image/png": "[encoded data removed]"
          },
          "metadata": {}
        }
      ],
      "source": [
        "plot_metrics_on_depths('gini')"
      ]
    },
    {
      "cell_type": "code",
      "execution_count": 33,
      "metadata": {
        "ExecuteTime": {
          "end_time": "2022-01-17T20:27:52.385383Z",
          "start_time": "2022-01-17T20:27:51.252Z"
        },
        "id": "gPOL_RU3gtwS",
        "colab": {
          "base_uri": "https://localhost:8080/",
          "height": 407
        },
        "outputId": "362ba64d-ff4a-4c17-b16a-cee5420d4bab"
      },
      "outputs": [
        {
          "output_type": "display_data",
          "data": {
            "text/plain": [
              "<Figure size 1152x432 with 1 Axes>"
            ],
            "image/png": "[encoded data removed]"
          },
          "metadata": {}
        }
      ],
      "source": [
        "plot_metrics_on_depths('entropy')"
      ]
    },
    {
      "cell_type": "markdown",
      "metadata": {
        "id": "m9f6saXogtwS"
      },
      "source": [
        "## Random forest"
      ]
    },
    {
      "cell_type": "markdown",
      "metadata": {
        "id": "_3Jt0OxPgtwS"
      },
      "source": [
        "**Task 5 - 1.5 Points** In the RandomForestClassifier class below you need to complete the *fit* and *predict()* functions"
      ]
    },
    {
      "cell_type": "code",
      "execution_count": 34,
      "metadata": {
        "ExecuteTime": {
          "end_time": "2022-01-17T22:16:11.657659Z",
          "start_time": "2022-01-17T22:16:11.627802Z"
        },
        "id": "FgT4_e3XgtwS"
      },
      "outputs": [],
      "source": [
        "class RandomForestClassifier(object):\n",
        "    \"\"\"\n",
        "    A random forest classifier.\n",
        "    A random forest is a meta estimator that fits a number of decision tree\n",
        "    classifiers on various sub-samples of the dataset and uses averaging to\n",
        "    improve the predictive accuracy and control overfitting.\n",
        "    \n",
        "    Args:\n",
        "        n_estimators : int, default=10\n",
        "            The number of trees in the forest.\n",
        "\n",
        "        max_depth : int, default=None\n",
        "            The maximum depth of the tree. If None, then nodes are expanded until\n",
        "            all leaves are pure.        \n",
        "\n",
        "        feature_frac : float, default=None\n",
        "            The fraction of features to use when looking for the best split. Must be \n",
        "            between 0.0 and 1.0. If None, then `feature_frac = 1 / sqrt(n_features)`.\n",
        "\n",
        "        criterion : {\"gini\", \"entropy\"}, default=\"gini\"\n",
        "            The function to measure the quality of a split. Supported criteria are\n",
        "            \"gini\" for the Gini impurity and \"entropy\" for the information gain.\n",
        "            \n",
        "        random_gen: numpy Random Generator object, default=None\n",
        "            Generator should be passed over for reproducible results. If None, \n",
        "            a new np.random.default_rng() will be created.\n",
        "    \"\"\"\n",
        "\n",
        "    def __init__(self, n_estimators=10, max_depth=None, feature_frac=None, \n",
        "                 criterion=\"entropy\", bootstrap=True, random_gen=None):\n",
        "        self.n_estimators = n_estimators\n",
        "        self.max_depth = max_depth\n",
        "        self.bootstrap = bootstrap\n",
        "        self.feature_frac = feature_frac\n",
        "        \n",
        "        if criterion not in [\"gini\", \"entropy\"]:\n",
        "            raise ValueError(f'Unknown criteria for splits {criterion}')\n",
        "        self.criterion = criterion\n",
        "        \n",
        "        self.rng = random_gen if random_gen is not None else np.random.default_rng()\n",
        "        self.trees = [Tree(criterion=self.criterion, random_gen=self.rng) \n",
        "                            for _ in range(n_estimators)]\n",
        "        \n",
        "    def _init_data(self, X, y):\n",
        "        \"\"\"Ensure data are in the expected format.\n",
        "        Ensures X and y are stored as numpy ndarrays by converting from an\n",
        "        array-like object if necessary. \n",
        "        Parameters\n",
        "        Args:\n",
        "            X : array-like\n",
        "                Feature dataset.\n",
        "            y : array-like, default=None\n",
        "                Target values. By default is required, but if y_required = false\n",
        "                then may be omitted.\n",
        "        \"\"\"\n",
        "        self.size = len(X)\n",
        "        \n",
        "        if not isinstance(X, np.ndarray):\n",
        "            self.X = np.array(X)\n",
        "        else:\n",
        "            self.X = X\n",
        "\n",
        "        if not isinstance(y, np.ndarray):\n",
        "            self.y = np.array(y)\n",
        "        else:\n",
        "            self.y = y\n",
        "            \n",
        "    def bootstrap_data(self, size):\n",
        "        return self.rng.integers(size, size=size)\n",
        "    \n",
        "    def fit(self, X, y):\n",
        "        \"\"\"Fit model.\n",
        "\n",
        "        Args:\n",
        "            X (numpy-array): The training input samples. 2-dimensional numpy array.\n",
        "            y (numpy-array): The target values. 1-dimensional numpy array.\n",
        "        \"\"\"\n",
        "        # 0.5 points\n",
        "        \n",
        "        if self.feature_frac is None:\n",
        "            self.feature_frac = 1 / np.sqrt(X.shape[1])\n",
        "        elif not 0.0 <= self.feature_frac <= 1.0:\n",
        "            raise ValueError('feature_frac must lie between 0.0 and 1.0')\n",
        "            \n",
        "        self._init_data(X, y)\n",
        "        \n",
        "        # Iterate over all trees in the forest\n",
        "        for tree in self.trees:\n",
        "            if self.bootstrap:\n",
        "                idxs = self.bootstrap_data(self.size)\n",
        "                X = self.X[idxs]\n",
        "                y = self.y[idxs]\n",
        "            else:\n",
        "                X = self.X\n",
        "                y = self.y\n",
        "                \n",
        "            # Fit the tree   \n",
        "            #tree.fit(self, X, y, feature_frac=1.0, max_depth=None)\n",
        "            tree.fit(X, y, self.feature_frac, self.max_depth)\n",
        "            \n",
        "    def predict(self, X):\n",
        "        \"\"\"Make predictions.\n",
        "\n",
        "        Args:\n",
        "            X (numpy-array): The test data input samples. 2-dimensional numpy array.\n",
        "        \"\"\"\n",
        "        # 1 point\n",
        "        \n",
        "        if not isinstance(X, np.ndarray):\n",
        "            X = np.array(X)\n",
        "\n",
        "        if self.X is not None:\n",
        "            # Create a numpy array of zeros of necessary length\n",
        "            predictions = np.zeros(X.shape[0])\n",
        "            # Go through all rows of the dataset\n",
        "            for i in range(X.shape[0]):\n",
        "                # Initialize a counter for voting\n",
        "                row_pred = np.zeros(X.shape[0])\n",
        "                # Sum up predictions from all the voters\n",
        "                for tree in self.trees:\n",
        "                    row_pred +=tree.predict(X) \n",
        "                # Compute the mean of the votes    \n",
        "                row_pred = row_pred / self.n_estimators\n",
        "                # Save the rounded value as the prediction for the current row\n",
        "                predictions = np.around(row_pred)\n",
        "            return predictions  \n",
        "        else:\n",
        "            raise ValueError(\"You should fit a model before `predict`\")"
      ]
    },
    {
      "cell_type": "code",
      "execution_count": null,
      "metadata": {
        "ExecuteTime": {
          "end_time": "2022-01-17T20:27:52.387491Z",
          "start_time": "2022-01-17T20:27:51.255Z"
        },
        "id": "lXoA_7rHgtwS"
      },
      "outputs": [],
      "source": [
        "tests.test_random_forest(RandomForestClassifier)"
      ]
    },
    {
      "cell_type": "markdown",
      "metadata": {
        "id": "_ZmgqJkXgtwT"
      },
      "source": [
        "**Task 6 - 1 Point** Fit two models with \"n_estimators=10\" and \"n_estimators=100\" hyperparameters. **Explain** the results."
      ]
    },
    {
      "cell_type": "code",
      "execution_count": 54,
      "metadata": {
        "ExecuteTime": {
          "end_time": "2022-01-17T20:27:52.388380Z",
          "start_time": "2022-01-17T20:27:51.257Z"
        },
        "id": "Hy4azGHwgtwT",
        "colab": {
          "base_uri": "https://localhost:8080/"
        },
        "outputId": "5412fce8-1ce0-46aa-c080-e7f634c4f2d8"
      },
      "outputs": [
        {
          "output_type": "stream",
          "name": "stdout",
          "text": [
            "accuracy on train: 0.9939759036144579\n",
            "accuracy on test: 0.8333333333333334\n"
          ]
        },
        {
          "output_type": "stream",
          "name": "stderr",
          "text": [
            "/usr/local/lib/python3.7/dist-packages/sklearn/base.py:451: UserWarning: X does not have valid feature names, but RandomForestClassifier was fitted with feature names\n",
            "  \"X does not have valid feature names, but\"\n",
            "/usr/local/lib/python3.7/dist-packages/sklearn/base.py:451: UserWarning: X does not have valid feature names, but RandomForestClassifier was fitted with feature names\n",
            "  \"X does not have valid feature names, but\"\n"
          ]
        }
      ],
      "source": [
        "# Your code here\n",
        "modelForest = RandomForestClassifier(n_estimators=10)\n",
        "modelForest.fit(X_train, y_train)\n",
        "print('accuracy on train:', accuracy_score(y_train, modelForest.predict(X_train.values))) \n",
        "print('accuracy on test:', accuracy_score(y_test, modelForest.predict(X_test.values)))"
      ]
    },
    {
      "cell_type": "code",
      "execution_count": 55,
      "metadata": {
        "ExecuteTime": {
          "end_time": "2022-01-17T20:27:52.389380Z",
          "start_time": "2022-01-17T20:27:51.259Z"
        },
        "id": "twB2g9xigtwT",
        "colab": {
          "base_uri": "https://localhost:8080/"
        },
        "outputId": "d64f3ceb-749c-4cb3-a79a-e6686756ff60"
      },
      "outputs": [
        {
          "output_type": "stream",
          "name": "stdout",
          "text": [
            "accuracy on train: 1.0\n",
            "accuracy on test: 0.8809523809523809\n"
          ]
        },
        {
          "output_type": "stream",
          "name": "stderr",
          "text": [
            "/usr/local/lib/python3.7/dist-packages/sklearn/base.py:451: UserWarning: X does not have valid feature names, but RandomForestClassifier was fitted with feature names\n",
            "  \"X does not have valid feature names, but\"\n",
            "/usr/local/lib/python3.7/dist-packages/sklearn/base.py:451: UserWarning: X does not have valid feature names, but RandomForestClassifier was fitted with feature names\n",
            "  \"X does not have valid feature names, but\"\n"
          ]
        }
      ],
      "source": [
        "# Your code here\n",
        "modelForest1 = RandomForestClassifier(n_estimators=100)\n",
        "modelForest1.fit(X_train, y_train)\n",
        "print('accuracy on train:', accuracy_score(y_train, modelForest1.predict(X_train.values))) \n",
        "print('accuracy on test:', accuracy_score(y_test, modelForest1.predict(X_test.values)))"
      ]
    },
    {
      "cell_type": "markdown",
      "source": [
        "Чем больше количество estimators тем более высокая точность. "
      ],
      "metadata": {
        "id": "WW2ChTdkAQED"
      }
    },
    {
      "cell_type": "markdown",
      "metadata": {
        "id": "jC9GrQ9RgtwT"
      },
      "source": [
        "Now it's your turn to explore the various parameters of RandomForestClassifier and their influence on model quality."
      ]
    },
    {
      "cell_type": "markdown",
      "metadata": {
        "id": "wISNSwBsgtwT"
      },
      "source": [
        "# Homework part 2. Random Forest in action"
      ]
    },
    {
      "cell_type": "markdown",
      "metadata": {
        "id": "16-Vf5mfgtwT"
      },
      "source": [
        "_Note_: Consider **accuracy** as main metric of model performance on this dataset."
      ]
    },
    {
      "cell_type": "markdown",
      "metadata": {
        "id": "5mxm10yVgtwT"
      },
      "source": [
        "_Note_: For tasks 1 to 5 please use your custom RandomForestClassifier if it is completed."
      ]
    },
    {
      "cell_type": "markdown",
      "metadata": {
        "id": "ciRZ2cmAgtwT"
      },
      "source": [
        "**Task 1 (0.5 points)** Split the dataset into train, test and validation parts (0.6 / 0.2 / 0.2). First two will be used for model hyperparameter tuning whereas the best model quality should be evaluated on validation part."
      ]
    },
    {
      "cell_type": "code",
      "execution_count": 56,
      "metadata": {
        "ExecuteTime": {
          "end_time": "2022-01-17T20:27:52.390375Z",
          "start_time": "2022-01-17T20:27:51.261Z"
        },
        "id": "PdBE_2QEgtwT"
      },
      "outputs": [],
      "source": [
        "# Your code here\n",
        "X_train, X_test, y_train, y_test = train_test_split(df.drop(columns='target'), df['target'], test_size=0.2, random_state=RANDOM_STATE)"
      ]
    },
    {
      "cell_type": "markdown",
      "metadata": {
        "id": "POWmKZ5ogtwU"
      },
      "source": [
        "### Grid Search and Random Search"
      ]
    },
    {
      "cell_type": "markdown",
      "metadata": {
        "id": "OMkTXNrngtwU"
      },
      "source": [
        "If you have enough computational power for model training in a reasonable amount of time more sophisticated approach of hyperparameter tuning would be either Grid Search or Random Search.<br>\n",
        "\n",
        "In a nutshell Grid Search allows you to pass through all different combinations of given model parameters and their values and choose the best combination. Whereas Random Search would randomly choose values for given model parameters and evaluate them on test data untill it reaches the specified number of iterations.<br>\n",
        "\n",
        "More information here [Gentle introduction to Grid and Random search](https://medium.com/@senapati.dipak97/grid-search-vs-random-search-d34c92946318) and here [Detailed Explanation with code examples](https://machinelearningmastery.com/hyperparameter-optimization-with-random-search-and-grid-search/)."
      ]
    },
    {
      "cell_type": "markdown",
      "metadata": {
        "ExecuteTime": {
          "end_time": "2022-01-17T10:10:45.984304Z",
          "start_time": "2022-01-17T10:10:45.969369Z"
        },
        "id": "xesr0K2dgtwU"
      },
      "source": [
        "**Task 3 (1 point)**. Compare your previous results with [GridSearch](https://scikit-learn.org/stable/modules/generated/sklearn.model_selection.GridSearchCV.html) hyperparameter tuning. You may tune best hyperparameters for forest with several trees and then increase it while measure the quality on validation dataset."
      ]
    },
    {
      "cell_type": "code",
      "execution_count": 61,
      "metadata": {
        "ExecuteTime": {
          "end_time": "2022-01-17T20:27:52.391365Z",
          "start_time": "2022-01-17T20:27:51.265Z"
        },
        "id": "eIlEf2_pgtwU",
        "colab": {
          "base_uri": "https://localhost:8080/"
        },
        "outputId": "1ee97c0f-27d5-455e-8a16-69c1240c23af"
      },
      "outputs": [
        {
          "output_type": "stream",
          "name": "stdout",
          "text": [
            "{'bootstrap': False, 'criterion': 'entropy', 'max_depth': None, 'n_estimators': 40}\n",
            "0.8809523809523809\n"
          ]
        }
      ],
      "source": [
        "# Your code here\n",
        "from sklearn.model_selection import GridSearchCV\n",
        "from sklearn.ensemble import RandomForestClassifier\n",
        "clf = RandomForestClassifier()\n",
        "parametrs = {\n",
        "    'n_estimators':[5, 10, 20, 30, 40 , 50, 60, 70, 100, 150],\n",
        "    'max_depth': [3, 4, 5, 6, 7, 8, 9, 10, None],\n",
        "    'criterion': ['gini', 'entropy'],\n",
        "    'bootstrap': [True, False]\n",
        "}\n",
        "gs = GridSearchCV(clf, parametrs, cv=5, scoring='accuracy', n_jobs=-1, refit=True)\n",
        "gs.fit(X_train, y_train)\n",
        "print(gs.best_params_)\n",
        "y_pred = gs.best_estimator_.predict(X_test)\n",
        "print(accuracy_score(y_pred, y_test))"
      ]
    },
    {
      "cell_type": "markdown",
      "metadata": {
        "id": "fNNkvahsgtwU"
      },
      "source": [
        "**Task 4 (1 point)**. And finally tune forest hyperparameters with [RandomSearch](https://scikit-learn.org/stable/modules/generated/sklearn.model_selection.RandomizedSearchCV.html). Compare results to previous attempts."
      ]
    },
    {
      "cell_type": "code",
      "execution_count": 64,
      "metadata": {
        "ExecuteTime": {
          "end_time": "2022-01-17T20:27:52.392364Z",
          "start_time": "2022-01-17T20:27:51.266Z"
        },
        "id": "eTmSysLBgtwU",
        "colab": {
          "base_uri": "https://localhost:8080/"
        },
        "outputId": "63fd4433-69b1-4606-e91f-d6513b80e44b"
      },
      "outputs": [
        {
          "output_type": "stream",
          "name": "stdout",
          "text": [
            "{'n_estimators': 60, 'max_depth': 10, 'criterion': 'entropy', 'bootstrap': False}\n",
            "0.9285714285714286\n"
          ]
        }
      ],
      "source": [
        "# Your code here\n",
        "from sklearn.model_selection import RandomizedSearchCV\n",
        "parametrs = {\n",
        "    'n_estimators':[5, 10, 20, 30, 40 , 50, 60, 70, 100, 150],\n",
        "    'max_depth': [3, 4, 5, 6, 7, 8, 9, 10],\n",
        "    'criterion': ['gini', 'entropy'],\n",
        "    'bootstrap': [True, False]\n",
        "}\n",
        "rs = RandomizedSearchCV(estimator = clf, scoring='accuracy', param_distributions = parametrs, n_iter = 100, cv = 5, n_jobs = -1)\n",
        "rs.fit(X_train, y_train)\n",
        "print(rs.best_params_)\n",
        "y_pred = rs.best_estimator_.predict(X_test)\n",
        "print(accuracy_score(y_pred, y_test))"
      ]
    },
    {
      "cell_type": "markdown",
      "metadata": {
        "id": "NVeaZMNrgtwU"
      },
      "source": [
        "**Task 5 (0.5 points)**. Tell us about your experience in hyperparameter tuning with the approaches above. What do you think would be the best option for this task and why?"
      ]
    },
    {
      "cell_type": "markdown",
      "metadata": {
        "id": "rqDABNB9gtwU"
      },
      "source": [
        "Your cool ideas here...\n",
        "Использование GreadSearch явно лучше, чем перебирать руками. Было бы инересно вывести таблицу скоров при всех параметрах и может графики какие-то замутить))"
      ]
    },
    {
      "cell_type": "markdown",
      "metadata": {
        "id": "_iuImdydgtwV"
      },
      "source": [
        "### Desicion tree explained"
      ]
    },
    {
      "cell_type": "markdown",
      "metadata": {
        "id": "gtPhYO5rgtwV"
      },
      "source": [
        "Remember the [Titanic](https://www.kaggle.com/c/titanic) competition from last week? Wouldn't be a good idea to visualize one of possible desicion-making processes of _survived_ / _dead_ labeling?"
      ]
    },
    {
      "cell_type": "markdown",
      "metadata": {
        "id": "dKpm7jTRgtwV"
      },
      "source": [
        "**Task 6 (1 point)**. Load titanic dataset, split it into train/test parts, apply simple hyperparameter tuning of [DesicionTreeClassifier](https://scikit-learn.org/stable/modules/generated/sklearn.tree.DecisionTreeClassifier.html) (use one of the approaches above) in order to have **test accuracy more than 0.65**. <br>\n",
        "\n",
        "Draw the best tree decision making process. You may use [sklearn.tree.prot_tree](https://scikit-learn.org/stable/modules/generated/sklearn.tree.plot_tree.html).<br>"
      ]
    },
    {
      "cell_type": "code",
      "execution_count": null,
      "metadata": {
        "ExecuteTime": {
          "end_time": "2022-01-17T20:27:52.393362Z",
          "start_time": "2022-01-17T20:27:51.269Z"
        },
        "id": "ca2J8n4ygtwV"
      },
      "outputs": [],
      "source": [
        "from sklearn.tree import DecisionTreeClassifier\n",
        "import os\n",
        "# your code here"
      ]
    },
    {
      "cell_type": "code",
      "source": [
        "PATH = \"/content/drive/MyDrive/Datas/Titanic\"\n",
        "train = pd.read_csv(os.path.join(PATH, 'train.csv'))\n",
        "test = pd.read_csv(os.path.join(PATH, 'test.csv'))"
      ],
      "metadata": {
        "id": "-DYQ58WIykh5"
      },
      "execution_count": null,
      "outputs": []
    },
    {
      "cell_type": "code",
      "source": [
        "train.head()"
      ],
      "metadata": {
        "id": "x7Nfp-dny8Vs",
        "outputId": "b18a88aa-a347-41e8-b29f-ab7bf5b4d861",
        "colab": {
          "base_uri": "https://localhost:8080/",
          "height": 206
        }
      },
      "execution_count": null,
      "outputs": [
        {
          "output_type": "execute_result",
          "data": {
            "text/plain": [
              "   PassengerId  Survived  Pclass              Name   Sex    Age  SibSp  Parch  \\\n",
              "0            0         1       1  Oconnor, Frankie  male    NaN      2      0   \n",
              "1            1         0       3       Bryan, Drew  male    NaN      0      0   \n",
              "2            2         0       3    Owens, Kenneth  male   0.33      1      2   \n",
              "3            3         0       3     Kramer, James  male  19.00      0      0   \n",
              "4            4         1       3     Bond, Michael  male  25.00      0      0   \n",
              "\n",
              "      Ticket   Fare   Cabin Embarked  \n",
              "0     209245  27.14  C12239        S  \n",
              "1      27323  13.35     NaN        S  \n",
              "2  CA 457703  71.29     NaN        S  \n",
              "3   A. 10866  13.04     NaN        S  \n",
              "4     427635   7.76     NaN        S  "
            ],
            "text/html": [
              "\n",
              "  <div id=\"df-c1a44e27-eda7-456d-97f5-d25e37285dcf\">\n",
              "    <div class=\"colab-df-container\">\n",
              "      <div>\n",
              "<style scoped>\n",
              "    .dataframe tbody tr th:only-of-type {\n",
              "        vertical-align: middle;\n",
              "    }\n",
              "\n",
              "    .dataframe tbody tr th {\n",
              "        vertical-align: top;\n",
              "    }\n",
              "\n",
              "    .dataframe thead th {\n",
              "        text-align: right;\n",
              "    }\n",
              "</style>\n",
              "<table border=\"1\" class=\"dataframe\">\n",
              "  <thead>\n",
              "    <tr style=\"text-align: right;\">\n",
              "      <th></th>\n",
              "      <th>PassengerId</th>\n",
              "      <th>Survived</th>\n",
              "      <th>Pclass</th>\n",
              "      <th>Name</th>\n",
              "      <th>Sex</th>\n",
              "      <th>Age</th>\n",
              "      <th>SibSp</th>\n",
              "      <th>Parch</th>\n",
              "      <th>Ticket</th>\n",
              "      <th>Fare</th>\n",
              "      <th>Cabin</th>\n",
              "      <th>Embarked</th>\n",
              "    </tr>\n",
              "  </thead>\n",
              "  <tbody>\n",
              "    <tr>\n",
              "      <th>0</th>\n",
              "      <td>0</td>\n",
              "      <td>1</td>\n",
              "      <td>1</td>\n",
              "      <td>Oconnor, Frankie</td>\n",
              "      <td>male</td>\n",
              "      <td>NaN</td>\n",
              "      <td>2</td>\n",
              "      <td>0</td>\n",
              "      <td>209245</td>\n",
              "      <td>27.14</td>\n",
              "      <td>C12239</td>\n",
              "      <td>S</td>\n",
              "    </tr>\n",
              "    <tr>\n",
              "      <th>1</th>\n",
              "      <td>1</td>\n",
              "      <td>0</td>\n",
              "      <td>3</td>\n",
              "      <td>Bryan, Drew</td>\n",
              "      <td>male</td>\n",
              "      <td>NaN</td>\n",
              "      <td>0</td>\n",
              "      <td>0</td>\n",
              "      <td>27323</td>\n",
              "      <td>13.35</td>\n",
              "      <td>NaN</td>\n",
              "      <td>S</td>\n",
              "    </tr>\n",
              "    <tr>\n",
              "      <th>2</th>\n",
              "      <td>2</td>\n",
              "      <td>0</td>\n",
              "      <td>3</td>\n",
              "      <td>Owens, Kenneth</td>\n",
              "      <td>male</td>\n",
              "      <td>0.33</td>\n",
              "      <td>1</td>\n",
              "      <td>2</td>\n",
              "      <td>CA 457703</td>\n",
              "      <td>71.29</td>\n",
              "      <td>NaN</td>\n",
              "      <td>S</td>\n",
              "    </tr>\n",
              "    <tr>\n",
              "      <th>3</th>\n",
              "      <td>3</td>\n",
              "      <td>0</td>\n",
              "      <td>3</td>\n",
              "      <td>Kramer, James</td>\n",
              "      <td>male</td>\n",
              "      <td>19.00</td>\n",
              "      <td>0</td>\n",
              "      <td>0</td>\n",
              "      <td>A. 10866</td>\n",
              "      <td>13.04</td>\n",
              "      <td>NaN</td>\n",
              "      <td>S</td>\n",
              "    </tr>\n",
              "    <tr>\n",
              "      <th>4</th>\n",
              "      <td>4</td>\n",
              "      <td>1</td>\n",
              "      <td>3</td>\n",
              "      <td>Bond, Michael</td>\n",
              "      <td>male</td>\n",
              "      <td>25.00</td>\n",
              "      <td>0</td>\n",
              "      <td>0</td>\n",
              "      <td>427635</td>\n",
              "      <td>7.76</td>\n",
              "      <td>NaN</td>\n",
              "      <td>S</td>\n",
              "    </tr>\n",
              "  </tbody>\n",
              "</table>\n",
              "</div>\n",
              "      <button class=\"colab-df-convert\" onclick=\"convertToInteractive('df-c1a44e27-eda7-456d-97f5-d25e37285dcf')\"\n",
              "              title=\"Convert this dataframe to an interactive table.\"\n",
              "              style=\"display:none;\">\n",
              "        \n",
              "  <svg xmlns=\"http://www.w3.org/2000/svg\" height=\"24px\"viewBox=\"0 0 24 24\"\n",
              "       width=\"24px\">\n",
              "    <path d=\"M0 0h24v24H0V0z\" fill=\"none\"/>\n",
              "    <path d=\"M18.56 5.44l.94 2.06.94-2.06 2.06-.94-2.06-.94-.94-2.06-.94 2.06-2.06.94zm-11 1L8.5 8.5l.94-2.06 2.06-.94-2.06-.94L8.5 2.5l-.94 2.06-2.06.94zm10 10l.94 2.06.94-2.06 2.06-.94-2.06-.94-.94-2.06-.94 2.06-2.06.94z\"/><path d=\"M17.41 7.96l-1.37-1.37c-.4-.4-.92-.59-1.43-.59-.52 0-1.04.2-1.43.59L10.3 9.45l-7.72 7.72c-.78.78-.78 2.05 0 2.83L4 21.41c.39.39.9.59 1.41.59.51 0 1.02-.2 1.41-.59l7.78-7.78 2.81-2.81c.8-.78.8-2.07 0-2.86zM5.41 20L4 18.59l7.72-7.72 1.47 1.35L5.41 20z\"/>\n",
              "  </svg>\n",
              "      </button>\n",
              "      \n",
              "  <style>\n",
              "    .colab-df-container {\n",
              "      display:flex;\n",
              "      flex-wrap:wrap;\n",
              "      gap: 12px;\n",
              "    }\n",
              "\n",
              "    .colab-df-convert {\n",
              "      background-color: #E8F0FE;\n",
              "      border: none;\n",
              "      border-radius: 50%;\n",
              "      cursor: pointer;\n",
              "      display: none;\n",
              "      fill: #1967D2;\n",
              "      height: 32px;\n",
              "      padding: 0 0 0 0;\n",
              "      width: 32px;\n",
              "    }\n",
              "\n",
              "    .colab-df-convert:hover {\n",
              "      background-color: #E2EBFA;\n",
              "      box-shadow: 0px 1px 2px rgba(60, 64, 67, 0.3), 0px 1px 3px 1px rgba(60, 64, 67, 0.15);\n",
              "      fill: #174EA6;\n",
              "    }\n",
              "\n",
              "    [theme=dark] .colab-df-convert {\n",
              "      background-color: #3B4455;\n",
              "      fill: #D2E3FC;\n",
              "    }\n",
              "\n",
              "    [theme=dark] .colab-df-convert:hover {\n",
              "      background-color: #434B5C;\n",
              "      box-shadow: 0px 1px 3px 1px rgba(0, 0, 0, 0.15);\n",
              "      filter: drop-shadow(0px 1px 2px rgba(0, 0, 0, 0.3));\n",
              "      fill: #FFFFFF;\n",
              "    }\n",
              "  </style>\n",
              "\n",
              "      <script>\n",
              "        const buttonEl =\n",
              "          document.querySelector('#df-c1a44e27-eda7-456d-97f5-d25e37285dcf button.colab-df-convert');\n",
              "        buttonEl.style.display =\n",
              "          google.colab.kernel.accessAllowed ? 'block' : 'none';\n",
              "\n",
              "        async function convertToInteractive(key) {\n",
              "          const element = document.querySelector('#df-c1a44e27-eda7-456d-97f5-d25e37285dcf');\n",
              "          const dataTable =\n",
              "            await google.colab.kernel.invokeFunction('convertToInteractive',\n",
              "                                                     [key], {});\n",
              "          if (!dataTable) return;\n",
              "\n",
              "          const docLinkHtml = 'Like what you see? Visit the ' +\n",
              "            '<a target=\"_blank\" href=https://colab.research.google.com/notebooks/data_table.ipynb>data table notebook</a>'\n",
              "            + ' to learn more about interactive tables.';\n",
              "          element.innerHTML = '';\n",
              "          dataTable['output_type'] = 'display_data';\n",
              "          await google.colab.output.renderOutput(dataTable, element);\n",
              "          const docLink = document.createElement('div');\n",
              "          docLink.innerHTML = docLinkHtml;\n",
              "          element.appendChild(docLink);\n",
              "        }\n",
              "      </script>\n",
              "    </div>\n",
              "  </div>\n",
              "  "
            ]
          },
          "metadata": {},
          "execution_count": 15
        }
      ]
    },
    {
      "cell_type": "code",
      "source": [
        "test.head()"
      ],
      "metadata": {
        "id": "QEc7YvCLy_Mk",
        "outputId": "2394d10c-0c37-4289-8d2c-d3ca86c17dae",
        "colab": {
          "base_uri": "https://localhost:8080/",
          "height": 206
        }
      },
      "execution_count": null,
      "outputs": [
        {
          "output_type": "execute_result",
          "data": {
            "text/plain": [
              "   PassengerId  Pclass              Name     Sex   Age  SibSp  Parch  Ticket  \\\n",
              "0       100000       3  Holliday, Daniel    male  19.0      0      0   24745   \n",
              "1       100001       3  Nguyen, Lorraine  female  53.0      0      0   13264   \n",
              "2       100002       1   Harris, Heather  female  19.0      0      0   25990   \n",
              "3       100003       2      Larsen, Eric    male  25.0      0      0  314011   \n",
              "4       100004       1     Cleary, Sarah  female  17.0      0      2   26203   \n",
              "\n",
              "    Fare   Cabin Embarked  \n",
              "0  63.01     NaN        S  \n",
              "1   5.81     NaN        S  \n",
              "2  38.91  B15315        C  \n",
              "3  12.93     NaN        S  \n",
              "4  26.89  B22515        C  "
            ],
            "text/html": [
              "\n",
              "  <div id=\"df-878021dc-4d89-4adf-9636-93bfd9d549de\">\n",
              "    <div class=\"colab-df-container\">\n",
              "      <div>\n",
              "<style scoped>\n",
              "    .dataframe tbody tr th:only-of-type {\n",
              "        vertical-align: middle;\n",
              "    }\n",
              "\n",
              "    .dataframe tbody tr th {\n",
              "        vertical-align: top;\n",
              "    }\n",
              "\n",
              "    .dataframe thead th {\n",
              "        text-align: right;\n",
              "    }\n",
              "</style>\n",
              "<table border=\"1\" class=\"dataframe\">\n",
              "  <thead>\n",
              "    <tr style=\"text-align: right;\">\n",
              "      <th></th>\n",
              "      <th>PassengerId</th>\n",
              "      <th>Pclass</th>\n",
              "      <th>Name</th>\n",
              "      <th>Sex</th>\n",
              "      <th>Age</th>\n",
              "      <th>SibSp</th>\n",
              "      <th>Parch</th>\n",
              "      <th>Ticket</th>\n",
              "      <th>Fare</th>\n",
              "      <th>Cabin</th>\n",
              "      <th>Embarked</th>\n",
              "    </tr>\n",
              "  </thead>\n",
              "  <tbody>\n",
              "    <tr>\n",
              "      <th>0</th>\n",
              "      <td>100000</td>\n",
              "      <td>3</td>\n",
              "      <td>Holliday, Daniel</td>\n",
              "      <td>male</td>\n",
              "      <td>19.0</td>\n",
              "      <td>0</td>\n",
              "      <td>0</td>\n",
              "      <td>24745</td>\n",
              "      <td>63.01</td>\n",
              "      <td>NaN</td>\n",
              "      <td>S</td>\n",
              "    </tr>\n",
              "    <tr>\n",
              "      <th>1</th>\n",
              "      <td>100001</td>\n",
              "      <td>3</td>\n",
              "      <td>Nguyen, Lorraine</td>\n",
              "      <td>female</td>\n",
              "      <td>53.0</td>\n",
              "      <td>0</td>\n",
              "      <td>0</td>\n",
              "      <td>13264</td>\n",
              "      <td>5.81</td>\n",
              "      <td>NaN</td>\n",
              "      <td>S</td>\n",
              "    </tr>\n",
              "    <tr>\n",
              "      <th>2</th>\n",
              "      <td>100002</td>\n",
              "      <td>1</td>\n",
              "      <td>Harris, Heather</td>\n",
              "      <td>female</td>\n",
              "      <td>19.0</td>\n",
              "      <td>0</td>\n",
              "      <td>0</td>\n",
              "      <td>25990</td>\n",
              "      <td>38.91</td>\n",
              "      <td>B15315</td>\n",
              "      <td>C</td>\n",
              "    </tr>\n",
              "    <tr>\n",
              "      <th>3</th>\n",
              "      <td>100003</td>\n",
              "      <td>2</td>\n",
              "      <td>Larsen, Eric</td>\n",
              "      <td>male</td>\n",
              "      <td>25.0</td>\n",
              "      <td>0</td>\n",
              "      <td>0</td>\n",
              "      <td>314011</td>\n",
              "      <td>12.93</td>\n",
              "      <td>NaN</td>\n",
              "      <td>S</td>\n",
              "    </tr>\n",
              "    <tr>\n",
              "      <th>4</th>\n",
              "      <td>100004</td>\n",
              "      <td>1</td>\n",
              "      <td>Cleary, Sarah</td>\n",
              "      <td>female</td>\n",
              "      <td>17.0</td>\n",
              "      <td>0</td>\n",
              "      <td>2</td>\n",
              "      <td>26203</td>\n",
              "      <td>26.89</td>\n",
              "      <td>B22515</td>\n",
              "      <td>C</td>\n",
              "    </tr>\n",
              "  </tbody>\n",
              "</table>\n",
              "</div>\n",
              "      <button class=\"colab-df-convert\" onclick=\"convertToInteractive('df-878021dc-4d89-4adf-9636-93bfd9d549de')\"\n",
              "              title=\"Convert this dataframe to an interactive table.\"\n",
              "              style=\"display:none;\">\n",
              "        \n",
              "  <svg xmlns=\"http://www.w3.org/2000/svg\" height=\"24px\"viewBox=\"0 0 24 24\"\n",
              "       width=\"24px\">\n",
              "    <path d=\"M0 0h24v24H0V0z\" fill=\"none\"/>\n",
              "    <path d=\"M18.56 5.44l.94 2.06.94-2.06 2.06-.94-2.06-.94-.94-2.06-.94 2.06-2.06.94zm-11 1L8.5 8.5l.94-2.06 2.06-.94-2.06-.94L8.5 2.5l-.94 2.06-2.06.94zm10 10l.94 2.06.94-2.06 2.06-.94-2.06-.94-.94-2.06-.94 2.06-2.06.94z\"/><path d=\"M17.41 7.96l-1.37-1.37c-.4-.4-.92-.59-1.43-.59-.52 0-1.04.2-1.43.59L10.3 9.45l-7.72 7.72c-.78.78-.78 2.05 0 2.83L4 21.41c.39.39.9.59 1.41.59.51 0 1.02-.2 1.41-.59l7.78-7.78 2.81-2.81c.8-.78.8-2.07 0-2.86zM5.41 20L4 18.59l7.72-7.72 1.47 1.35L5.41 20z\"/>\n",
              "  </svg>\n",
              "      </button>\n",
              "      \n",
              "  <style>\n",
              "    .colab-df-container {\n",
              "      display:flex;\n",
              "      flex-wrap:wrap;\n",
              "      gap: 12px;\n",
              "    }\n",
              "\n",
              "    .colab-df-convert {\n",
              "      background-color: #E8F0FE;\n",
              "      border: none;\n",
              "      border-radius: 50%;\n",
              "      cursor: pointer;\n",
              "      display: none;\n",
              "      fill: #1967D2;\n",
              "      height: 32px;\n",
              "      padding: 0 0 0 0;\n",
              "      width: 32px;\n",
              "    }\n",
              "\n",
              "    .colab-df-convert:hover {\n",
              "      background-color: #E2EBFA;\n",
              "      box-shadow: 0px 1px 2px rgba(60, 64, 67, 0.3), 0px 1px 3px 1px rgba(60, 64, 67, 0.15);\n",
              "      fill: #174EA6;\n",
              "    }\n",
              "\n",
              "    [theme=dark] .colab-df-convert {\n",
              "      background-color: #3B4455;\n",
              "      fill: #D2E3FC;\n",
              "    }\n",
              "\n",
              "    [theme=dark] .colab-df-convert:hover {\n",
              "      background-color: #434B5C;\n",
              "      box-shadow: 0px 1px 3px 1px rgba(0, 0, 0, 0.15);\n",
              "      filter: drop-shadow(0px 1px 2px rgba(0, 0, 0, 0.3));\n",
              "      fill: #FFFFFF;\n",
              "    }\n",
              "  </style>\n",
              "\n",
              "      <script>\n",
              "        const buttonEl =\n",
              "          document.querySelector('#df-878021dc-4d89-4adf-9636-93bfd9d549de button.colab-df-convert');\n",
              "        buttonEl.style.display =\n",
              "          google.colab.kernel.accessAllowed ? 'block' : 'none';\n",
              "\n",
              "        async function convertToInteractive(key) {\n",
              "          const element = document.querySelector('#df-878021dc-4d89-4adf-9636-93bfd9d549de');\n",
              "          const dataTable =\n",
              "            await google.colab.kernel.invokeFunction('convertToInteractive',\n",
              "                                                     [key], {});\n",
              "          if (!dataTable) return;\n",
              "\n",
              "          const docLinkHtml = 'Like what you see? Visit the ' +\n",
              "            '<a target=\"_blank\" href=https://colab.research.google.com/notebooks/data_table.ipynb>data table notebook</a>'\n",
              "            + ' to learn more about interactive tables.';\n",
              "          element.innerHTML = '';\n",
              "          dataTable['output_type'] = 'display_data';\n",
              "          await google.colab.output.renderOutput(dataTable, element);\n",
              "          const docLink = document.createElement('div');\n",
              "          docLink.innerHTML = docLinkHtml;\n",
              "          element.appendChild(docLink);\n",
              "        }\n",
              "      </script>\n",
              "    </div>\n",
              "  </div>\n",
              "  "
            ]
          },
          "metadata": {},
          "execution_count": 16
        }
      ]
    },
    {
      "cell_type": "markdown",
      "source": [
        "Missing values:"
      ],
      "metadata": {
        "id": "o8l_S4aizOMm"
      }
    },
    {
      "cell_type": "code",
      "source": [
        "for col in train.columns:\n",
        "    pct_missing = np.mean(train[col].isnull())\n",
        "    print('{} - {}%'.format(col, pct_missing*100))"
      ],
      "metadata": {
        "id": "ZE1Ra7WZzMlW",
        "outputId": "ebaae5d2-5259-422c-c0cf-6dda8d9bc5a4",
        "colab": {
          "base_uri": "https://localhost:8080/"
        }
      },
      "execution_count": null,
      "outputs": [
        {
          "output_type": "stream",
          "name": "stdout",
          "text": [
            "PassengerId - 0.0%\n",
            "Survived - 0.0%\n",
            "Pclass - 0.0%\n",
            "Name - 0.0%\n",
            "Sex - 0.0%\n",
            "Age - 3.292%\n",
            "SibSp - 0.0%\n",
            "Parch - 0.0%\n",
            "Ticket - 4.623%\n",
            "Fare - 0.134%\n",
            "Cabin - 67.866%\n",
            "Embarked - 0.25%\n"
          ]
        }
      ]
    },
    {
      "cell_type": "code",
      "source": [
        "for col in test.columns:\n",
        "    pct_missing = np.mean(test[col].isnull())\n",
        "    print('{} - {}%'.format(col, pct_missing*100))"
      ],
      "metadata": {
        "id": "ksEfMg4szi31",
        "outputId": "cfc1623f-b602-4781-8a8d-652c02a00eb3",
        "colab": {
          "base_uri": "https://localhost:8080/"
        }
      },
      "execution_count": null,
      "outputs": [
        {
          "output_type": "stream",
          "name": "stdout",
          "text": [
            "PassengerId - 0.0%\n",
            "Pclass - 0.0%\n",
            "Name - 0.0%\n",
            "Sex - 0.0%\n",
            "Age - 3.4869999999999997%\n",
            "SibSp - 0.0%\n",
            "Parch - 0.0%\n",
            "Ticket - 5.181%\n",
            "Fare - 0.133%\n",
            "Cabin - 70.831%\n",
            "Embarked - 0.27699999999999997%\n"
          ]
        }
      ]
    },
    {
      "cell_type": "code",
      "source": [
        "cols = train.columns[:12] \n",
        "colours = ['#000099', '#ffff00'] \n",
        "sns.heatmap(train[cols].isnull(), cmap=sns.color_palette(colours))"
      ],
      "metadata": {
        "id": "MY1iLAM-z9gb",
        "outputId": "fadd0405-4c11-4333-e95e-585a68029ed9",
        "colab": {
          "base_uri": "https://localhost:8080/",
          "height": 338
        }
      },
      "execution_count": null,
      "outputs": [
        {
          "output_type": "execute_result",
          "data": {
            "text/plain": [
              "<matplotlib.axes._subplots.AxesSubplot at 0x7efdb897c7d0>"
            ]
          },
          "metadata": {},
          "execution_count": 54
        },
        {
          "output_type": "display_data",
          "data": {
            "text/plain": [
              "<Figure size 432x288 with 2 Axes>"
            ],
            "image/png": "[encoded data removed]"
          },
          "metadata": {
            "needs_background": "light"
          }
        }
      ]
    },
    {
      "cell_type": "code",
      "source": [
        "cols = test.columns[:12] \n",
        "colours = ['#000099', '#ffff00'] \n",
        "sns.heatmap(test[cols].isnull(), cmap=sns.color_palette(colours))"
      ],
      "metadata": {
        "id": "iHE6-PVJ0Gae",
        "outputId": "a373867d-0777-404b-b2cb-e2c9894e7c31",
        "colab": {
          "base_uri": "https://localhost:8080/",
          "height": 338
        }
      },
      "execution_count": null,
      "outputs": [
        {
          "output_type": "execute_result",
          "data": {
            "text/plain": [
              "<matplotlib.axes._subplots.AxesSubplot at 0x7efdbb017dd0>"
            ]
          },
          "metadata": {},
          "execution_count": 21
        },
        {
          "output_type": "display_data",
          "data": {
            "text/plain": [
              "<Figure size 432x288 with 2 Axes>"
            ],
            "image/png": "[encoded data removed]"
          },
          "metadata": {
            "needs_background": "light"
          }
        }
      ]
    },
    {
      "cell_type": "markdown",
      "source": [
        "Используем признаки пол, возраст, стоимость и место посадки. Если будет низкий результат предсказания, то добавим сперва sibSp, Parch, затем что-то сделаем с билетом и кабиной"
      ],
      "metadata": {
        "id": "svO0TUKU08MW"
      }
    },
    {
      "cell_type": "code",
      "source": [
        "features_drop = ['Name', 'SibSp', 'Parch', 'Ticket', 'Cabin', 'PassengerId']\n",
        "train = train.drop(features_drop, axis = 1)\n",
        "test = test.drop(features_drop, axis = 1)"
      ],
      "metadata": {
        "id": "DYnNUpqD1_g5"
      },
      "execution_count": null,
      "outputs": []
    },
    {
      "cell_type": "markdown",
      "source": [
        "В train нужно дозаполнить: возраст, стоимость, порт отправления. В test то же самое. "
      ],
      "metadata": {
        "id": "T66QihbH3-mb"
      }
    },
    {
      "cell_type": "markdown",
      "source": [
        "Возраст заполним средним значением. Оплату заполним средним значением по классу (Не получилось)"
      ],
      "metadata": {
        "id": "agOY1lnD3esA"
      }
    },
    {
      "cell_type": "code",
      "source": [
        "train['Age'].fillna(int(train['Age'].mean()), inplace=True)\n",
        "test['Age'].fillna(int(test['Age'].mean()), inplace=True)\n",
        "\n",
        "train['Fare'].fillna(train['Fare'].mean(), inplace=True)\n",
        "test['Fare'].fillna(test['Fare'].mean(), inplace=True)\n",
        "\n",
        "train['Embarked'] = train['Embarked'].fillna('S')\n",
        "test['Embarked'] = test['Embarked'].fillna('S')"
      ],
      "metadata": {
        "id": "AhCeP0kS07yc"
      },
      "execution_count": null,
      "outputs": []
    },
    {
      "cell_type": "code",
      "source": [
        "train.groupby('Pclass').Fare.mean()"
      ],
      "metadata": {
        "id": "jJo1ESK23mkb",
        "outputId": "7043a5a6-d083-4f9e-dd16-34602fa57313",
        "colab": {
          "base_uri": "https://localhost:8080/"
        }
      },
      "execution_count": null,
      "outputs": [
        {
          "output_type": "execute_result",
          "data": {
            "text/plain": [
              "Pclass\n",
              "1    92.653113\n",
              "2    25.756003\n",
              "3    20.618226\n",
              "Name: Fare, dtype: float64"
            ]
          },
          "metadata": {},
          "execution_count": 27
        }
      ]
    },
    {
      "cell_type": "code",
      "source": [
        "test.groupby('Pclass').Fare.mean()"
      ],
      "metadata": {
        "id": "G0td_yDj_itc",
        "outputId": "12543fc2-cc55-4aea-80c5-5dd8bf7daf31",
        "colab": {
          "base_uri": "https://localhost:8080/"
        }
      },
      "execution_count": null,
      "outputs": [
        {
          "output_type": "execute_result",
          "data": {
            "text/plain": [
              "Pclass\n",
              "1    115.290629\n",
              "2     25.126149\n",
              "3     18.777101\n",
              "Name: Fare, dtype: float64"
            ]
          },
          "metadata": {},
          "execution_count": 28
        }
      ]
    },
    {
      "cell_type": "markdown",
      "source": [
        "Переводим пол и порт в числа"
      ],
      "metadata": {
        "id": "pFZL_C3nC2EG"
      }
    },
    {
      "cell_type": "code",
      "source": [
        "#categories = {\"female\": 1, \"male\": 0}\n",
        "train['Sex'] = train['Sex'].replace(['female','male'],[0,1])\n",
        "test['Sex'] = test['Sex'].replace(['female','male'],[0,1])\n",
        "#train['Sex']= train['Sex'].map(categories)\n",
        "#test['Sex']= test['Sex'].map(categories)\n",
        "\n",
        "categories = {\"S\": 1, \"C\": 2, \"Q\": 3}\n",
        "train['Embarked']= train['Embarked'].map(categories)\n",
        "test['Embarked']= test['Embarked'].map(categories)"
      ],
      "metadata": {
        "id": "jccqM4qBCxS7"
      },
      "execution_count": null,
      "outputs": []
    },
    {
      "cell_type": "code",
      "source": [
        "test.head()"
      ],
      "metadata": {
        "id": "wYsATarwEKL4",
        "outputId": "f31a86de-3df7-4f3d-ed5a-c18354661a6d",
        "colab": {
          "base_uri": "https://localhost:8080/",
          "height": 206
        }
      },
      "execution_count": null,
      "outputs": [
        {
          "output_type": "execute_result",
          "data": {
            "text/plain": [
              "   Pclass  Sex   Age   Fare  Embarked\n",
              "0       3    1  19.0  63.01         1\n",
              "1       3    0  53.0   5.81         1\n",
              "2       1    0  19.0  38.91         2\n",
              "3       2    1  25.0  12.93         1\n",
              "4       1    0  17.0  26.89         2"
            ],
            "text/html": [
              "\n",
              "  <div id=\"df-4f0bc733-2f11-4c45-b9a9-29df419deeca\">\n",
              "    <div class=\"colab-df-container\">\n",
              "      <div>\n",
              "<style scoped>\n",
              "    .dataframe tbody tr th:only-of-type {\n",
              "        vertical-align: middle;\n",
              "    }\n",
              "\n",
              "    .dataframe tbody tr th {\n",
              "        vertical-align: top;\n",
              "    }\n",
              "\n",
              "    .dataframe thead th {\n",
              "        text-align: right;\n",
              "    }\n",
              "</style>\n",
              "<table border=\"1\" class=\"dataframe\">\n",
              "  <thead>\n",
              "    <tr style=\"text-align: right;\">\n",
              "      <th></th>\n",
              "      <th>Pclass</th>\n",
              "      <th>Sex</th>\n",
              "      <th>Age</th>\n",
              "      <th>Fare</th>\n",
              "      <th>Embarked</th>\n",
              "    </tr>\n",
              "  </thead>\n",
              "  <tbody>\n",
              "    <tr>\n",
              "      <th>0</th>\n",
              "      <td>3</td>\n",
              "      <td>1</td>\n",
              "      <td>19.0</td>\n",
              "      <td>63.01</td>\n",
              "      <td>1</td>\n",
              "    </tr>\n",
              "    <tr>\n",
              "      <th>1</th>\n",
              "      <td>3</td>\n",
              "      <td>0</td>\n",
              "      <td>53.0</td>\n",
              "      <td>5.81</td>\n",
              "      <td>1</td>\n",
              "    </tr>\n",
              "    <tr>\n",
              "      <th>2</th>\n",
              "      <td>1</td>\n",
              "      <td>0</td>\n",
              "      <td>19.0</td>\n",
              "      <td>38.91</td>\n",
              "      <td>2</td>\n",
              "    </tr>\n",
              "    <tr>\n",
              "      <th>3</th>\n",
              "      <td>2</td>\n",
              "      <td>1</td>\n",
              "      <td>25.0</td>\n",
              "      <td>12.93</td>\n",
              "      <td>1</td>\n",
              "    </tr>\n",
              "    <tr>\n",
              "      <th>4</th>\n",
              "      <td>1</td>\n",
              "      <td>0</td>\n",
              "      <td>17.0</td>\n",
              "      <td>26.89</td>\n",
              "      <td>2</td>\n",
              "    </tr>\n",
              "  </tbody>\n",
              "</table>\n",
              "</div>\n",
              "      <button class=\"colab-df-convert\" onclick=\"convertToInteractive('df-4f0bc733-2f11-4c45-b9a9-29df419deeca')\"\n",
              "              title=\"Convert this dataframe to an interactive table.\"\n",
              "              style=\"display:none;\">\n",
              "        \n",
              "  <svg xmlns=\"http://www.w3.org/2000/svg\" height=\"24px\"viewBox=\"0 0 24 24\"\n",
              "       width=\"24px\">\n",
              "    <path d=\"M0 0h24v24H0V0z\" fill=\"none\"/>\n",
              "    <path d=\"M18.56 5.44l.94 2.06.94-2.06 2.06-.94-2.06-.94-.94-2.06-.94 2.06-2.06.94zm-11 1L8.5 8.5l.94-2.06 2.06-.94-2.06-.94L8.5 2.5l-.94 2.06-2.06.94zm10 10l.94 2.06.94-2.06 2.06-.94-2.06-.94-.94-2.06-.94 2.06-2.06.94z\"/><path d=\"M17.41 7.96l-1.37-1.37c-.4-.4-.92-.59-1.43-.59-.52 0-1.04.2-1.43.59L10.3 9.45l-7.72 7.72c-.78.78-.78 2.05 0 2.83L4 21.41c.39.39.9.59 1.41.59.51 0 1.02-.2 1.41-.59l7.78-7.78 2.81-2.81c.8-.78.8-2.07 0-2.86zM5.41 20L4 18.59l7.72-7.72 1.47 1.35L5.41 20z\"/>\n",
              "  </svg>\n",
              "      </button>\n",
              "      \n",
              "  <style>\n",
              "    .colab-df-container {\n",
              "      display:flex;\n",
              "      flex-wrap:wrap;\n",
              "      gap: 12px;\n",
              "    }\n",
              "\n",
              "    .colab-df-convert {\n",
              "      background-color: #E8F0FE;\n",
              "      border: none;\n",
              "      border-radius: 50%;\n",
              "      cursor: pointer;\n",
              "      display: none;\n",
              "      fill: #1967D2;\n",
              "      height: 32px;\n",
              "      padding: 0 0 0 0;\n",
              "      width: 32px;\n",
              "    }\n",
              "\n",
              "    .colab-df-convert:hover {\n",
              "      background-color: #E2EBFA;\n",
              "      box-shadow: 0px 1px 2px rgba(60, 64, 67, 0.3), 0px 1px 3px 1px rgba(60, 64, 67, 0.15);\n",
              "      fill: #174EA6;\n",
              "    }\n",
              "\n",
              "    [theme=dark] .colab-df-convert {\n",
              "      background-color: #3B4455;\n",
              "      fill: #D2E3FC;\n",
              "    }\n",
              "\n",
              "    [theme=dark] .colab-df-convert:hover {\n",
              "      background-color: #434B5C;\n",
              "      box-shadow: 0px 1px 3px 1px rgba(0, 0, 0, 0.15);\n",
              "      filter: drop-shadow(0px 1px 2px rgba(0, 0, 0, 0.3));\n",
              "      fill: #FFFFFF;\n",
              "    }\n",
              "  </style>\n",
              "\n",
              "      <script>\n",
              "        const buttonEl =\n",
              "          document.querySelector('#df-4f0bc733-2f11-4c45-b9a9-29df419deeca button.colab-df-convert');\n",
              "        buttonEl.style.display =\n",
              "          google.colab.kernel.accessAllowed ? 'block' : 'none';\n",
              "\n",
              "        async function convertToInteractive(key) {\n",
              "          const element = document.querySelector('#df-4f0bc733-2f11-4c45-b9a9-29df419deeca');\n",
              "          const dataTable =\n",
              "            await google.colab.kernel.invokeFunction('convertToInteractive',\n",
              "                                                     [key], {});\n",
              "          if (!dataTable) return;\n",
              "\n",
              "          const docLinkHtml = 'Like what you see? Visit the ' +\n",
              "            '<a target=\"_blank\" href=https://colab.research.google.com/notebooks/data_table.ipynb>data table notebook</a>'\n",
              "            + ' to learn more about interactive tables.';\n",
              "          element.innerHTML = '';\n",
              "          dataTable['output_type'] = 'display_data';\n",
              "          await google.colab.output.renderOutput(dataTable, element);\n",
              "          const docLink = document.createElement('div');\n",
              "          docLink.innerHTML = docLinkHtml;\n",
              "          element.appendChild(docLink);\n",
              "        }\n",
              "      </script>\n",
              "    </div>\n",
              "  </div>\n",
              "  "
            ]
          },
          "metadata": {},
          "execution_count": 59
        }
      ]
    },
    {
      "cell_type": "markdown",
      "source": [
        "Data scaling"
      ],
      "metadata": {
        "id": "smaSmz-oE9OK"
      }
    },
    {
      "cell_type": "code",
      "source": [
        "from sklearn.preprocessing import MinMaxScaler\n",
        "scaler = MinMaxScaler()\n",
        "y = train['Survived']\n",
        "train = train.drop('Survived', axis=1)\n",
        "\n",
        "scaled_train = scaler.fit_transform(train)\n",
        "scaled_test = scaler.transform(test)\n",
        "\n",
        "scaled_train = pd.DataFrame(scaled_train, columns=train.columns, index=train.index)\n",
        "scaled_test = pd.DataFrame(scaled_test, columns=test.columns, index=test.index)"
      ],
      "metadata": {
        "id": "-KIX8iKaE8mu"
      },
      "execution_count": null,
      "outputs": []
    },
    {
      "cell_type": "markdown",
      "source": [
        "Classification"
      ],
      "metadata": {
        "id": "l_LBZqIiHHyV"
      }
    },
    {
      "cell_type": "code",
      "source": [
        "from sklearn.ensemble import RandomForestClassifier\n",
        "from sklearn import metrics\n",
        "from sklearn.metrics import confusion_matrix\n",
        "\n",
        "X_train, X_test, y_train, y_test = train_test_split(scaled_train, y, test_size=0.2)"
      ],
      "metadata": {
        "id": "SnABitHXGQIt"
      },
      "execution_count": null,
      "outputs": []
    },
    {
      "cell_type": "code",
      "source": [
        "#clf = RandomForestClassifier(n_estimators=100)\n",
        "clf = tree.DecisionTreeClassifier(random_state=0)\n",
        "#Train the model using the training sets y_pred=clf.predict(X_test)\n",
        "clf.fit(X_train, y_train)\n",
        "y_pred=clf.predict(X_test)\n",
        "\n",
        "print(\"   Accuracy: {}\".format(metrics.accuracy_score(y_test, y_pred)))"
      ],
      "metadata": {
        "id": "7kz_6u1TH0Zn",
        "outputId": "366595c4-cfe6-49cd-cdf8-06c7a3dd1234",
        "colab": {
          "base_uri": "https://localhost:8080/"
        }
      },
      "execution_count": null,
      "outputs": [
        {
          "output_type": "stream",
          "name": "stdout",
          "text": [
            "   Accuracy: 0.6843\n"
          ]
        }
      ]
    },
    {
      "cell_type": "code",
      "source": [
        "from sklearn import tree"
      ],
      "metadata": {
        "id": "4HUXQl4QMWoT"
      },
      "execution_count": null,
      "outputs": []
    },
    {
      "cell_type": "code",
      "source": [
        "from sklearn.tree import plot_tree\n",
        "\n",
        "\n",
        "plot_tree(clf)\n",
        "plt.title(\"Decision tree trained on 5 features\")\n",
        "plt.show()"
      ],
      "metadata": {
        "id": "VkPl5Zt9LLks",
        "outputId": "1449a9f5-5819-4d1e-f8da-f2a95b5da6bf",
        "colab": {
          "base_uri": "https://localhost:8080/",
          "height": 264
        }
      },
      "execution_count": null,
      "outputs": [
        {
          "output_type": "display_data",
          "data": {
            "text/plain": [
              "<Figure size 432x288 with 1 Axes>"
            ],
            "image/png": "[encoded data removed]"
          },
          "metadata": {
            "needs_background": "light"
          }
        }
      ]
    },
    {
      "cell_type": "code",
      "source": [
        "clf = DecisionTreeClassifier(criterion=\"entropy\", max_depth=3)\n",
        "clf = clf.fit(X_train,y_train)\n",
        "y_pred = clf.predict(X_test)\n",
        "print(\"Accuracy:\",metrics.accuracy_score(y_test, y_pred))"
      ],
      "metadata": {
        "id": "AJaOD2GFWnye",
        "outputId": "434d92c1-0528-4d0e-cea3-751d83e52a1e",
        "colab": {
          "base_uri": "https://localhost:8080/"
        }
      },
      "execution_count": null,
      "outputs": [
        {
          "output_type": "stream",
          "name": "stdout",
          "text": [
            "Accuracy: 0.7621\n"
          ]
        }
      ]
    },
    {
      "cell_type": "code",
      "source": [
        "plot_tree(clf)\n",
        "plt.title(\"Decision tree trained on 5 features, max depth=3\")\n",
        "plt.show()"
      ],
      "metadata": {
        "id": "VcqgeP4OW5RI",
        "outputId": "23c8b2d2-e563-49f2-f0c8-929c17acc4cd",
        "colab": {
          "base_uri": "https://localhost:8080/",
          "height": 264
        }
      },
      "execution_count": null,
      "outputs": [
        {
          "output_type": "display_data",
          "data": {
            "text/plain": [
              "<Figure size 432x288 with 1 Axes>"
            ],
            "image/png": "[encoded data removed]"
          },
          "metadata": {
            "needs_background": "light"
          }
        }
      ]
    },
    {
      "cell_type": "markdown",
      "source": [
        "Дальше я решила немного поиграться и руками тюнила параметры. Можно было бы Search использовать, но так интереснее)"
      ],
      "metadata": {
        "id": "3Vdn1l07OkYW"
      }
    },
    {
      "cell_type": "code",
      "source": [
        "clf = DecisionTreeClassifier(max_depth=5)\n",
        "clf = clf.fit(X_train,y_train)\n",
        "y_pred = clf.predict(X_test)\n",
        "print(\"Accuracy:\",metrics.accuracy_score(y_test, y_pred))"
      ],
      "metadata": {
        "id": "V4llvVdFXIoW",
        "outputId": "4a10033d-1317-4436-bf8f-bd37d93bdd23",
        "colab": {
          "base_uri": "https://localhost:8080/"
        }
      },
      "execution_count": null,
      "outputs": [
        {
          "output_type": "stream",
          "name": "stdout",
          "text": [
            "Accuracy: 0.76675\n"
          ]
        }
      ]
    },
    {
      "cell_type": "code",
      "source": [
        "plot_tree(clf)\n",
        "plt.title(\"Decision tree trained on 5 features, max depth=5\")\n",
        "plt.show()"
      ],
      "metadata": {
        "id": "j10sWCSDYCDE",
        "outputId": "e2745c11-b03b-4e52-8a4e-dd01f40c53de",
        "colab": {
          "base_uri": "https://localhost:8080/",
          "height": 264
        }
      },
      "execution_count": null,
      "outputs": [
        {
          "output_type": "display_data",
          "data": {
            "text/plain": [
              "<Figure size 432x288 with 1 Axes>"
            ],
            "image/png": "[encoded data removed]"
          },
          "metadata": {
            "needs_background": "light"
          }
        }
      ]
    },
    {
      "cell_type": "code",
      "source": [
        "X_train, X_test, y_train, y_test = train_test_split(train, y, test_size=0.2)\n",
        "#clf = DecisionTreeClassifier(criterion=\"entropy\", max_depth=3)\n",
        "clf = DecisionTreeClassifier()\n",
        "clf = clf.fit(X_train,y_train)\n",
        "y_pred = clf.predict(X_test)\n",
        "print(\"Accuracy:\",metrics.accuracy_score(y_test, y_pred))"
      ],
      "metadata": {
        "id": "g9at2aWjY6Ut",
        "outputId": "fde1462c-b04a-49d2-a979-3850b5531143",
        "colab": {
          "base_uri": "https://localhost:8080/"
        }
      },
      "execution_count": null,
      "outputs": [
        {
          "output_type": "stream",
          "name": "stdout",
          "text": [
            "Accuracy: 0.68595\n"
          ]
        }
      ]
    },
    {
      "cell_type": "code",
      "source": [
        "clf = DecisionTreeClassifier(max_depth=5)\n",
        "clf = clf.fit(X_train,y_train)\n",
        "y_pred = clf.predict(X_test)\n",
        "print(\"Accuracy:\",metrics.accuracy_score(y_test, y_pred))"
      ],
      "metadata": {
        "id": "c7b7dR7tZ_6u",
        "outputId": "5586da86-a742-49c6-9d32-fb5cd4dcc765",
        "colab": {
          "base_uri": "https://localhost:8080/"
        }
      },
      "execution_count": null,
      "outputs": [
        {
          "output_type": "stream",
          "name": "stdout",
          "text": [
            "Accuracy: 0.76825\n"
          ]
        }
      ]
    },
    {
      "cell_type": "code",
      "source": [
        "clf = DecisionTreeClassifier(criterion=\"entropy\", max_depth=8)\n",
        "\n",
        "clf = clf.fit(X_train,y_train)\n",
        "y_pred = clf.predict(X_test)\n",
        "print(\"Accuracy:\",metrics.accuracy_score(y_test, y_pred))"
      ],
      "metadata": {
        "id": "UPaOme68aKeU",
        "outputId": "42f5471d-42e3-44aa-c057-deefff8d3b2a",
        "colab": {
          "base_uri": "https://localhost:8080/"
        }
      },
      "execution_count": null,
      "outputs": [
        {
          "output_type": "stream",
          "name": "stdout",
          "text": [
            "Accuracy: 0.7685\n"
          ]
        }
      ]
    },
    {
      "cell_type": "markdown",
      "metadata": {
        "id": "G8a2NYDggtwV"
      },
      "source": [
        "Is it easy to interpret its results? Are you able to explain to a random person why would they survive / die on the titanic?"
      ]
    },
    {
      "cell_type": "markdown",
      "source": [
        "Если вывести дерево и оно будет не сильно большой глубины, то получается довольно-таки наглядненько, что даже не придется особо объяснять)"
      ],
      "metadata": {
        "id": "_IX8eB6nO_XI"
      }
    }
  ],
  "metadata": {
    "kernelspec": {
      "display_name": "Python 3",
      "language": "python",
      "name": "python3"
    },
    "language_info": {
      "codemirror_mode": {
        "name": "ipython",
        "version": 3
      },
      "file_extension": ".py",
      "mimetype": "text/x-python",
      "name": "python",
      "nbconvert_exporter": "python",
      "pygments_lexer": "ipython3",
      "version": "3.7.7"
    },
    "toc": {
      "base_numbering": 1,
      "nav_menu": {},
      "number_sections": true,
      "sideBar": true,
      "skip_h1_title": false,
      "title_cell": "Table of Contents",
      "title_sidebar": "Contents",
      "toc_cell": false,
      "toc_position": {
        "height": "calc(100% - 180px)",
        "left": "10px",
        "top": "150px",
        "width": "235px"
      },
      "toc_section_display": true,
      "toc_window_display": true
    },
    "colab": {
      "name": "Копия блокнота \"rf_classifier\"",
      "provenance": [],
      "toc_visible": true,
      "collapsed_sections": []
    }
  },
  "nbformat": 4,
  "nbformat_minor": 0
}